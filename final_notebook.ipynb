{
 "cells": [
  {
   "cell_type": "markdown",
   "metadata": {},
   "source": [
    "# LoyalLock:  Predictive Modeling for Customer Segmentation and Churn Reduction\n",
    "\n",
    "## Introduction"
   ]
  },
  {
   "cell_type": "markdown",
   "metadata": {},
   "source": [
    "In this notebook, we utilized a customer churn dataset collected from banks in order to train and test various classification models with the goal of predicting whether a customer will churn or not in the future. Some of the techniques you will see used in this notebook are importing data, train test splits, supervised modeling, unsupervised modeling, and preprocessing: scaling the data, one-hot encoding, oversampling, and dimensionality reduction."
   ]
  },
  {
   "cell_type": "markdown",
   "metadata": {},
   "source": [
    "## Load the Data"
   ]
  },
  {
   "cell_type": "markdown",
   "metadata": {},
   "source": [
    "Run the following cell to import the necessary libraries for running this project"
   ]
  },
  {
   "cell_type": "code",
   "execution_count": 73,
   "metadata": {},
   "outputs": [],
   "source": [
    "# Import pyplot for plotting\n",
    "import matplotlib.pyplot as plt\n",
    "# Customary to import NumPy as np\n",
    "# Import numpy to generate some dummy data if necessary\n",
    "import numpy as np \n",
    "# Import Pandas under the alias pd\n",
    "import pandas as pd\n",
    "# Import seaborn and set the standard alias of sns\n",
    "import seaborn as sns\n",
    "# Set so that our visualizations appear in the notebook and note as seprate files\n",
    "%matplotlib inline"
   ]
  },
  {
   "cell_type": "markdown",
   "metadata": {},
   "source": [
    "The data is stored in 'BankChurners.csv'. Load and preview the dataset below."
   ]
  },
  {
   "cell_type": "code",
   "execution_count": 74,
   "metadata": {},
   "outputs": [],
   "source": [
    "# Import the data into a Pandas DataFrame\n",
    "df = pd.read_csv('data/BankChurners.csv')"
   ]
  },
  {
   "cell_type": "code",
   "execution_count": 75,
   "metadata": {},
   "outputs": [
    {
     "data": {
      "text/plain": [
       "23"
      ]
     },
     "execution_count": 75,
     "metadata": {},
     "output_type": "execute_result"
    }
   ],
   "source": [
    "#Returns the number of columns in a DataFrame\n",
    "len((df.columns))"
   ]
  },
  {
   "cell_type": "markdown",
   "metadata": {},
   "source": [
    "We can see that there are currently 23 columns in the dataframe."
   ]
  },
  {
   "cell_type": "code",
   "execution_count": 76,
   "metadata": {},
   "outputs": [
    {
     "data": {
      "text/html": [
       "<div>\n",
       "<style scoped>\n",
       "    .dataframe tbody tr th:only-of-type {\n",
       "        vertical-align: middle;\n",
       "    }\n",
       "\n",
       "    .dataframe tbody tr th {\n",
       "        vertical-align: top;\n",
       "    }\n",
       "\n",
       "    .dataframe thead th {\n",
       "        text-align: right;\n",
       "    }\n",
       "</style>\n",
       "<table border=\"1\" class=\"dataframe\">\n",
       "  <thead>\n",
       "    <tr style=\"text-align: right;\">\n",
       "      <th></th>\n",
       "      <th>CLIENTNUM</th>\n",
       "      <th>Attrition_Flag</th>\n",
       "      <th>Customer_Age</th>\n",
       "      <th>Gender</th>\n",
       "      <th>Dependent_count</th>\n",
       "      <th>Education_Level</th>\n",
       "      <th>Marital_Status</th>\n",
       "      <th>Income_Category</th>\n",
       "      <th>Card_Category</th>\n",
       "      <th>Months_on_book</th>\n",
       "      <th>...</th>\n",
       "      <th>Credit_Limit</th>\n",
       "      <th>Total_Revolving_Bal</th>\n",
       "      <th>Avg_Open_To_Buy</th>\n",
       "      <th>Total_Amt_Chng_Q4_Q1</th>\n",
       "      <th>Total_Trans_Amt</th>\n",
       "      <th>Total_Trans_Ct</th>\n",
       "      <th>Total_Ct_Chng_Q4_Q1</th>\n",
       "      <th>Avg_Utilization_Ratio</th>\n",
       "      <th>Naive_Bayes_Classifier_Attrition_Flag_Card_Category_Contacts_Count_12_mon_Dependent_count_Education_Level_Months_Inactive_12_mon_1</th>\n",
       "      <th>Naive_Bayes_Classifier_Attrition_Flag_Card_Category_Contacts_Count_12_mon_Dependent_count_Education_Level_Months_Inactive_12_mon_2</th>\n",
       "    </tr>\n",
       "  </thead>\n",
       "  <tbody>\n",
       "    <tr>\n",
       "      <th>0</th>\n",
       "      <td>768805383</td>\n",
       "      <td>Existing Customer</td>\n",
       "      <td>45</td>\n",
       "      <td>M</td>\n",
       "      <td>3</td>\n",
       "      <td>High School</td>\n",
       "      <td>Married</td>\n",
       "      <td>$60K - $80K</td>\n",
       "      <td>Blue</td>\n",
       "      <td>39</td>\n",
       "      <td>...</td>\n",
       "      <td>12691.0</td>\n",
       "      <td>777</td>\n",
       "      <td>11914.0</td>\n",
       "      <td>1.335</td>\n",
       "      <td>1144</td>\n",
       "      <td>42</td>\n",
       "      <td>1.625</td>\n",
       "      <td>0.061</td>\n",
       "      <td>0.000093</td>\n",
       "      <td>0.99991</td>\n",
       "    </tr>\n",
       "    <tr>\n",
       "      <th>1</th>\n",
       "      <td>818770008</td>\n",
       "      <td>Existing Customer</td>\n",
       "      <td>49</td>\n",
       "      <td>F</td>\n",
       "      <td>5</td>\n",
       "      <td>Graduate</td>\n",
       "      <td>Single</td>\n",
       "      <td>Less than $40K</td>\n",
       "      <td>Blue</td>\n",
       "      <td>44</td>\n",
       "      <td>...</td>\n",
       "      <td>8256.0</td>\n",
       "      <td>864</td>\n",
       "      <td>7392.0</td>\n",
       "      <td>1.541</td>\n",
       "      <td>1291</td>\n",
       "      <td>33</td>\n",
       "      <td>3.714</td>\n",
       "      <td>0.105</td>\n",
       "      <td>0.000057</td>\n",
       "      <td>0.99994</td>\n",
       "    </tr>\n",
       "    <tr>\n",
       "      <th>2</th>\n",
       "      <td>713982108</td>\n",
       "      <td>Existing Customer</td>\n",
       "      <td>51</td>\n",
       "      <td>M</td>\n",
       "      <td>3</td>\n",
       "      <td>Graduate</td>\n",
       "      <td>Married</td>\n",
       "      <td>$80K - $120K</td>\n",
       "      <td>Blue</td>\n",
       "      <td>36</td>\n",
       "      <td>...</td>\n",
       "      <td>3418.0</td>\n",
       "      <td>0</td>\n",
       "      <td>3418.0</td>\n",
       "      <td>2.594</td>\n",
       "      <td>1887</td>\n",
       "      <td>20</td>\n",
       "      <td>2.333</td>\n",
       "      <td>0.000</td>\n",
       "      <td>0.000021</td>\n",
       "      <td>0.99998</td>\n",
       "    </tr>\n",
       "    <tr>\n",
       "      <th>3</th>\n",
       "      <td>769911858</td>\n",
       "      <td>Existing Customer</td>\n",
       "      <td>40</td>\n",
       "      <td>F</td>\n",
       "      <td>4</td>\n",
       "      <td>High School</td>\n",
       "      <td>Unknown</td>\n",
       "      <td>Less than $40K</td>\n",
       "      <td>Blue</td>\n",
       "      <td>34</td>\n",
       "      <td>...</td>\n",
       "      <td>3313.0</td>\n",
       "      <td>2517</td>\n",
       "      <td>796.0</td>\n",
       "      <td>1.405</td>\n",
       "      <td>1171</td>\n",
       "      <td>20</td>\n",
       "      <td>2.333</td>\n",
       "      <td>0.760</td>\n",
       "      <td>0.000134</td>\n",
       "      <td>0.99987</td>\n",
       "    </tr>\n",
       "    <tr>\n",
       "      <th>4</th>\n",
       "      <td>709106358</td>\n",
       "      <td>Existing Customer</td>\n",
       "      <td>40</td>\n",
       "      <td>M</td>\n",
       "      <td>3</td>\n",
       "      <td>Uneducated</td>\n",
       "      <td>Married</td>\n",
       "      <td>$60K - $80K</td>\n",
       "      <td>Blue</td>\n",
       "      <td>21</td>\n",
       "      <td>...</td>\n",
       "      <td>4716.0</td>\n",
       "      <td>0</td>\n",
       "      <td>4716.0</td>\n",
       "      <td>2.175</td>\n",
       "      <td>816</td>\n",
       "      <td>28</td>\n",
       "      <td>2.500</td>\n",
       "      <td>0.000</td>\n",
       "      <td>0.000022</td>\n",
       "      <td>0.99998</td>\n",
       "    </tr>\n",
       "  </tbody>\n",
       "</table>\n",
       "<p>5 rows × 23 columns</p>\n",
       "</div>"
      ],
      "text/plain": [
       "   CLIENTNUM     Attrition_Flag  Customer_Age Gender  Dependent_count  \\\n",
       "0  768805383  Existing Customer            45      M                3   \n",
       "1  818770008  Existing Customer            49      F                5   \n",
       "2  713982108  Existing Customer            51      M                3   \n",
       "3  769911858  Existing Customer            40      F                4   \n",
       "4  709106358  Existing Customer            40      M                3   \n",
       "\n",
       "  Education_Level Marital_Status Income_Category Card_Category  \\\n",
       "0     High School        Married     $60K - $80K          Blue   \n",
       "1        Graduate         Single  Less than $40K          Blue   \n",
       "2        Graduate        Married    $80K - $120K          Blue   \n",
       "3     High School        Unknown  Less than $40K          Blue   \n",
       "4      Uneducated        Married     $60K - $80K          Blue   \n",
       "\n",
       "   Months_on_book  ...  Credit_Limit  Total_Revolving_Bal  Avg_Open_To_Buy  \\\n",
       "0              39  ...       12691.0                  777          11914.0   \n",
       "1              44  ...        8256.0                  864           7392.0   \n",
       "2              36  ...        3418.0                    0           3418.0   \n",
       "3              34  ...        3313.0                 2517            796.0   \n",
       "4              21  ...        4716.0                    0           4716.0   \n",
       "\n",
       "   Total_Amt_Chng_Q4_Q1  Total_Trans_Amt  Total_Trans_Ct  Total_Ct_Chng_Q4_Q1  \\\n",
       "0                 1.335             1144              42                1.625   \n",
       "1                 1.541             1291              33                3.714   \n",
       "2                 2.594             1887              20                2.333   \n",
       "3                 1.405             1171              20                2.333   \n",
       "4                 2.175              816              28                2.500   \n",
       "\n",
       "   Avg_Utilization_Ratio  \\\n",
       "0                  0.061   \n",
       "1                  0.105   \n",
       "2                  0.000   \n",
       "3                  0.760   \n",
       "4                  0.000   \n",
       "\n",
       "   Naive_Bayes_Classifier_Attrition_Flag_Card_Category_Contacts_Count_12_mon_Dependent_count_Education_Level_Months_Inactive_12_mon_1  \\\n",
       "0                                           0.000093                                                                                    \n",
       "1                                           0.000057                                                                                    \n",
       "2                                           0.000021                                                                                    \n",
       "3                                           0.000134                                                                                    \n",
       "4                                           0.000022                                                                                    \n",
       "\n",
       "   Naive_Bayes_Classifier_Attrition_Flag_Card_Category_Contacts_Count_12_mon_Dependent_count_Education_Level_Months_Inactive_12_mon_2  \n",
       "0                                            0.99991                                                                                   \n",
       "1                                            0.99994                                                                                   \n",
       "2                                            0.99998                                                                                   \n",
       "3                                            0.99987                                                                                   \n",
       "4                                            0.99998                                                                                   \n",
       "\n",
       "[5 rows x 23 columns]"
      ]
     },
     "execution_count": 76,
     "metadata": {},
     "output_type": "execute_result"
    }
   ],
   "source": [
    "#Displays first 5 rows of the DataFrame \n",
    "df.head()"
   ]
  },
  {
   "cell_type": "markdown",
   "metadata": {},
   "source": [
    "As we can see from our initially examination of the data, there seems to be unnecessary columns in the dataframe so run the cell below to drop those."
   ]
  },
  {
   "cell_type": "code",
   "execution_count": 77,
   "metadata": {},
   "outputs": [],
   "source": [
    "#Drops last two columns of the DataFrame \n",
    "df = df.drop(df.columns[-2:], axis=1)\n",
    "#Removes column CLIENTNUM\n",
    "df = df.drop([\"CLIENTNUM\"], axis=1)"
   ]
  },
  {
   "cell_type": "code",
   "execution_count": 78,
   "metadata": {},
   "outputs": [
    {
     "data": {
      "text/plain": [
       "20"
      ]
     },
     "execution_count": 78,
     "metadata": {},
     "output_type": "execute_result"
    }
   ],
   "source": [
    "#Returns the number of columns in a DataFrame\n",
    "len(df.columns)"
   ]
  },
  {
   "cell_type": "markdown",
   "metadata": {},
   "source": [
    "Now that the length of our column list is 20 instead of 23 we can confirm that the columns were dropped. Furthermore, we now need to explore the target for this use case that our model will predict on. The dataset contains a column 'Attrition_Flag' that has textual information for each customer and tells us whether that individual attrited or not. However, our model will need to predict an integer value so we will have to change the text to a binary variable in the preprocessing step."
   ]
  },
  {
   "cell_type": "code",
   "execution_count": 79,
   "metadata": {},
   "outputs": [
    {
     "data": {
      "text/plain": [
       "Existing Customer    8500\n",
       "Attrited Customer    1627\n",
       "Name: Attrition_Flag, dtype: int64"
      ]
     },
     "execution_count": 79,
     "metadata": {},
     "output_type": "execute_result"
    }
   ],
   "source": [
    "#Counts the occurance of each unique value in attrition_flag column\n",
    "df[\"Attrition_Flag\"].value_counts()"
   ]
  },
  {
   "cell_type": "markdown",
   "metadata": {},
   "source": [
    "Furthermore, the information displayed above shows us that there is a massive imbalance in the distribution of our target variables. This will have to be accounted for with SMOTE down the line."
   ]
  },
  {
   "cell_type": "markdown",
   "metadata": {},
   "source": [
    "## EDA"
   ]
  },
  {
   "cell_type": "markdown",
   "metadata": {},
   "source": [
    "Exploratory Data Analysis is the process of digging into your data, making visualizations, and drawing conclusions from those. This step is normally conducted as a beginning step to draw insights from the data that could help us make decisions about how to create the model down the line."
   ]
  },
  {
   "cell_type": "code",
   "execution_count": 80,
   "metadata": {},
   "outputs": [],
   "source": [
    "# Existing Customer will be 1 and Attrited Customer will be 0\n",
    "df[\"Attrition_Flag\"] = df[\"Attrition_Flag\"].map({'Existing Customer': 1, 'Attrited Customer': 0})"
   ]
  },
  {
   "cell_type": "markdown",
   "metadata": {},
   "source": [
    "Here we split the data into features and target as the EDA will be performed on them seperately."
   ]
  },
  {
   "cell_type": "code",
   "execution_count": 81,
   "metadata": {},
   "outputs": [],
   "source": [
    "#Y  is target variable, everything else is X\n",
    "y = df[\"Attrition_Flag\"]\n",
    "X = df.drop([\"Attrition_Flag\"], axis=1)"
   ]
  },
  {
   "cell_type": "markdown",
   "metadata": {},
   "source": [
    "Initially, we wanted to see what the averages for the different numerical features were in order to determine if we need to scale the features or not"
   ]
  },
  {
   "cell_type": "code",
   "execution_count": 82,
   "metadata": {},
   "outputs": [
    {
     "data": {
      "text/html": [
       "<div>\n",
       "<style scoped>\n",
       "    .dataframe tbody tr th:only-of-type {\n",
       "        vertical-align: middle;\n",
       "    }\n",
       "\n",
       "    .dataframe tbody tr th {\n",
       "        vertical-align: top;\n",
       "    }\n",
       "\n",
       "    .dataframe thead th {\n",
       "        text-align: right;\n",
       "    }\n",
       "</style>\n",
       "<table border=\"1\" class=\"dataframe\">\n",
       "  <thead>\n",
       "    <tr style=\"text-align: right;\">\n",
       "      <th></th>\n",
       "      <th>Attrition_Flag</th>\n",
       "      <th>Customer_Age</th>\n",
       "      <th>Dependent_count</th>\n",
       "      <th>Months_on_book</th>\n",
       "      <th>Total_Relationship_Count</th>\n",
       "      <th>Months_Inactive_12_mon</th>\n",
       "      <th>Contacts_Count_12_mon</th>\n",
       "      <th>Credit_Limit</th>\n",
       "      <th>Total_Revolving_Bal</th>\n",
       "      <th>Avg_Open_To_Buy</th>\n",
       "      <th>Total_Amt_Chng_Q4_Q1</th>\n",
       "      <th>Total_Trans_Amt</th>\n",
       "      <th>Total_Trans_Ct</th>\n",
       "      <th>Total_Ct_Chng_Q4_Q1</th>\n",
       "      <th>Avg_Utilization_Ratio</th>\n",
       "    </tr>\n",
       "  </thead>\n",
       "  <tbody>\n",
       "    <tr>\n",
       "      <th>count</th>\n",
       "      <td>10127.000000</td>\n",
       "      <td>10127.000000</td>\n",
       "      <td>10127.000000</td>\n",
       "      <td>10127.000000</td>\n",
       "      <td>10127.000000</td>\n",
       "      <td>10127.000000</td>\n",
       "      <td>10127.000000</td>\n",
       "      <td>10127.000000</td>\n",
       "      <td>10127.000000</td>\n",
       "      <td>10127.000000</td>\n",
       "      <td>10127.000000</td>\n",
       "      <td>10127.000000</td>\n",
       "      <td>10127.000000</td>\n",
       "      <td>10127.000000</td>\n",
       "      <td>10127.000000</td>\n",
       "    </tr>\n",
       "    <tr>\n",
       "      <th>mean</th>\n",
       "      <td>0.839340</td>\n",
       "      <td>46.325960</td>\n",
       "      <td>2.346203</td>\n",
       "      <td>35.928409</td>\n",
       "      <td>3.812580</td>\n",
       "      <td>2.341167</td>\n",
       "      <td>2.455317</td>\n",
       "      <td>8631.953698</td>\n",
       "      <td>1162.814061</td>\n",
       "      <td>7469.139637</td>\n",
       "      <td>0.759941</td>\n",
       "      <td>4404.086304</td>\n",
       "      <td>64.858695</td>\n",
       "      <td>0.712222</td>\n",
       "      <td>0.274894</td>\n",
       "    </tr>\n",
       "    <tr>\n",
       "      <th>std</th>\n",
       "      <td>0.367235</td>\n",
       "      <td>8.016814</td>\n",
       "      <td>1.298908</td>\n",
       "      <td>7.986416</td>\n",
       "      <td>1.554408</td>\n",
       "      <td>1.010622</td>\n",
       "      <td>1.106225</td>\n",
       "      <td>9088.776650</td>\n",
       "      <td>814.987335</td>\n",
       "      <td>9090.685324</td>\n",
       "      <td>0.219207</td>\n",
       "      <td>3397.129254</td>\n",
       "      <td>23.472570</td>\n",
       "      <td>0.238086</td>\n",
       "      <td>0.275691</td>\n",
       "    </tr>\n",
       "    <tr>\n",
       "      <th>min</th>\n",
       "      <td>0.000000</td>\n",
       "      <td>26.000000</td>\n",
       "      <td>0.000000</td>\n",
       "      <td>13.000000</td>\n",
       "      <td>1.000000</td>\n",
       "      <td>0.000000</td>\n",
       "      <td>0.000000</td>\n",
       "      <td>1438.300000</td>\n",
       "      <td>0.000000</td>\n",
       "      <td>3.000000</td>\n",
       "      <td>0.000000</td>\n",
       "      <td>510.000000</td>\n",
       "      <td>10.000000</td>\n",
       "      <td>0.000000</td>\n",
       "      <td>0.000000</td>\n",
       "    </tr>\n",
       "    <tr>\n",
       "      <th>25%</th>\n",
       "      <td>1.000000</td>\n",
       "      <td>41.000000</td>\n",
       "      <td>1.000000</td>\n",
       "      <td>31.000000</td>\n",
       "      <td>3.000000</td>\n",
       "      <td>2.000000</td>\n",
       "      <td>2.000000</td>\n",
       "      <td>2555.000000</td>\n",
       "      <td>359.000000</td>\n",
       "      <td>1324.500000</td>\n",
       "      <td>0.631000</td>\n",
       "      <td>2155.500000</td>\n",
       "      <td>45.000000</td>\n",
       "      <td>0.582000</td>\n",
       "      <td>0.023000</td>\n",
       "    </tr>\n",
       "    <tr>\n",
       "      <th>50%</th>\n",
       "      <td>1.000000</td>\n",
       "      <td>46.000000</td>\n",
       "      <td>2.000000</td>\n",
       "      <td>36.000000</td>\n",
       "      <td>4.000000</td>\n",
       "      <td>2.000000</td>\n",
       "      <td>2.000000</td>\n",
       "      <td>4549.000000</td>\n",
       "      <td>1276.000000</td>\n",
       "      <td>3474.000000</td>\n",
       "      <td>0.736000</td>\n",
       "      <td>3899.000000</td>\n",
       "      <td>67.000000</td>\n",
       "      <td>0.702000</td>\n",
       "      <td>0.176000</td>\n",
       "    </tr>\n",
       "    <tr>\n",
       "      <th>75%</th>\n",
       "      <td>1.000000</td>\n",
       "      <td>52.000000</td>\n",
       "      <td>3.000000</td>\n",
       "      <td>40.000000</td>\n",
       "      <td>5.000000</td>\n",
       "      <td>3.000000</td>\n",
       "      <td>3.000000</td>\n",
       "      <td>11067.500000</td>\n",
       "      <td>1784.000000</td>\n",
       "      <td>9859.000000</td>\n",
       "      <td>0.859000</td>\n",
       "      <td>4741.000000</td>\n",
       "      <td>81.000000</td>\n",
       "      <td>0.818000</td>\n",
       "      <td>0.503000</td>\n",
       "    </tr>\n",
       "    <tr>\n",
       "      <th>max</th>\n",
       "      <td>1.000000</td>\n",
       "      <td>73.000000</td>\n",
       "      <td>5.000000</td>\n",
       "      <td>56.000000</td>\n",
       "      <td>6.000000</td>\n",
       "      <td>6.000000</td>\n",
       "      <td>6.000000</td>\n",
       "      <td>34516.000000</td>\n",
       "      <td>2517.000000</td>\n",
       "      <td>34516.000000</td>\n",
       "      <td>3.397000</td>\n",
       "      <td>18484.000000</td>\n",
       "      <td>139.000000</td>\n",
       "      <td>3.714000</td>\n",
       "      <td>0.999000</td>\n",
       "    </tr>\n",
       "  </tbody>\n",
       "</table>\n",
       "</div>"
      ],
      "text/plain": [
       "       Attrition_Flag  Customer_Age  Dependent_count  Months_on_book  \\\n",
       "count    10127.000000  10127.000000     10127.000000    10127.000000   \n",
       "mean         0.839340     46.325960         2.346203       35.928409   \n",
       "std          0.367235      8.016814         1.298908        7.986416   \n",
       "min          0.000000     26.000000         0.000000       13.000000   \n",
       "25%          1.000000     41.000000         1.000000       31.000000   \n",
       "50%          1.000000     46.000000         2.000000       36.000000   \n",
       "75%          1.000000     52.000000         3.000000       40.000000   \n",
       "max          1.000000     73.000000         5.000000       56.000000   \n",
       "\n",
       "       Total_Relationship_Count  Months_Inactive_12_mon  \\\n",
       "count              10127.000000            10127.000000   \n",
       "mean                   3.812580                2.341167   \n",
       "std                    1.554408                1.010622   \n",
       "min                    1.000000                0.000000   \n",
       "25%                    3.000000                2.000000   \n",
       "50%                    4.000000                2.000000   \n",
       "75%                    5.000000                3.000000   \n",
       "max                    6.000000                6.000000   \n",
       "\n",
       "       Contacts_Count_12_mon  Credit_Limit  Total_Revolving_Bal  \\\n",
       "count           10127.000000  10127.000000         10127.000000   \n",
       "mean                2.455317   8631.953698          1162.814061   \n",
       "std                 1.106225   9088.776650           814.987335   \n",
       "min                 0.000000   1438.300000             0.000000   \n",
       "25%                 2.000000   2555.000000           359.000000   \n",
       "50%                 2.000000   4549.000000          1276.000000   \n",
       "75%                 3.000000  11067.500000          1784.000000   \n",
       "max                 6.000000  34516.000000          2517.000000   \n",
       "\n",
       "       Avg_Open_To_Buy  Total_Amt_Chng_Q4_Q1  Total_Trans_Amt  Total_Trans_Ct  \\\n",
       "count     10127.000000          10127.000000     10127.000000    10127.000000   \n",
       "mean       7469.139637              0.759941      4404.086304       64.858695   \n",
       "std        9090.685324              0.219207      3397.129254       23.472570   \n",
       "min           3.000000              0.000000       510.000000       10.000000   \n",
       "25%        1324.500000              0.631000      2155.500000       45.000000   \n",
       "50%        3474.000000              0.736000      3899.000000       67.000000   \n",
       "75%        9859.000000              0.859000      4741.000000       81.000000   \n",
       "max       34516.000000              3.397000     18484.000000      139.000000   \n",
       "\n",
       "       Total_Ct_Chng_Q4_Q1  Avg_Utilization_Ratio  \n",
       "count         10127.000000           10127.000000  \n",
       "mean              0.712222               0.274894  \n",
       "std               0.238086               0.275691  \n",
       "min               0.000000               0.000000  \n",
       "25%               0.582000               0.023000  \n",
       "50%               0.702000               0.176000  \n",
       "75%               0.818000               0.503000  \n",
       "max               3.714000               0.999000  "
      ]
     },
     "execution_count": 82,
     "metadata": {},
     "output_type": "execute_result"
    }
   ],
   "source": [
    "#Returns description of data in DataFrame\n",
    "df.describe()"
   ]
  },
  {
   "cell_type": "markdown",
   "metadata": {},
   "source": [
    "After analyzing the information above, it is clear that we will need to standardize the data some how down the line. Now we want to see just how much of our data is numerical vs. categorical because this will affect how we handle the two classes."
   ]
  },
  {
   "cell_type": "code",
   "execution_count": 83,
   "metadata": {},
   "outputs": [
    {
     "name": "stdout",
     "output_type": "stream",
     "text": [
      "<class 'pandas.core.frame.DataFrame'>\n",
      "RangeIndex: 10127 entries, 0 to 10126\n",
      "Data columns (total 19 columns):\n",
      " #   Column                    Non-Null Count  Dtype  \n",
      "---  ------                    --------------  -----  \n",
      " 0   Customer_Age              10127 non-null  int64  \n",
      " 1   Gender                    10127 non-null  object \n",
      " 2   Dependent_count           10127 non-null  int64  \n",
      " 3   Education_Level           10127 non-null  object \n",
      " 4   Marital_Status            10127 non-null  object \n",
      " 5   Income_Category           10127 non-null  object \n",
      " 6   Card_Category             10127 non-null  object \n",
      " 7   Months_on_book            10127 non-null  int64  \n",
      " 8   Total_Relationship_Count  10127 non-null  int64  \n",
      " 9   Months_Inactive_12_mon    10127 non-null  int64  \n",
      " 10  Contacts_Count_12_mon     10127 non-null  int64  \n",
      " 11  Credit_Limit              10127 non-null  float64\n",
      " 12  Total_Revolving_Bal       10127 non-null  int64  \n",
      " 13  Avg_Open_To_Buy           10127 non-null  float64\n",
      " 14  Total_Amt_Chng_Q4_Q1      10127 non-null  float64\n",
      " 15  Total_Trans_Amt           10127 non-null  int64  \n",
      " 16  Total_Trans_Ct            10127 non-null  int64  \n",
      " 17  Total_Ct_Chng_Q4_Q1       10127 non-null  float64\n",
      " 18  Avg_Utilization_Ratio     10127 non-null  float64\n",
      "dtypes: float64(5), int64(9), object(5)\n",
      "memory usage: 1.5+ MB\n"
     ]
    }
   ],
   "source": [
    "#Prints a summary of DataFrame\n",
    "#Includes dtype, columns dtypes, non-null values\n",
    "#Includes the total number of entries and each attribute's type and number of non-null values\n",
    "X.info()"
   ]
  },
  {
   "cell_type": "markdown",
   "metadata": {},
   "source": [
    "It is more or less 50/50 on numerical vs. categorical data. Now, we want to take a look at some of the distributions of the categorical data as some may have imbalences within them."
   ]
  },
  {
   "cell_type": "code",
   "execution_count": 84,
   "metadata": {},
   "outputs": [
    {
     "data": {
      "text/plain": [
       "F    0.529081\n",
       "M    0.470919\n",
       "Name: Gender, dtype: float64"
      ]
     },
     "execution_count": 84,
     "metadata": {},
     "output_type": "execute_result"
    }
   ],
   "source": [
    "#Counts the occurance of each unique value in Gender column\n",
    "df[\"Gender\"].value_counts(normalize=True)"
   ]
  },
  {
   "cell_type": "code",
   "execution_count": 85,
   "metadata": {},
   "outputs": [
    {
     "data": {
      "text/plain": [
       "Graduate         0.308877\n",
       "High School      0.198776\n",
       "Unknown          0.149995\n",
       "Uneducated       0.146835\n",
       "College          0.100030\n",
       "Post-Graduate    0.050953\n",
       "Doctorate        0.044534\n",
       "Name: Education_Level, dtype: float64"
      ]
     },
     "execution_count": 85,
     "metadata": {},
     "output_type": "execute_result"
    }
   ],
   "source": [
    "#Counts the occurance of each unique value in Education_Level column\n",
    "df[\"Education_Level\"].value_counts(normalize=True)"
   ]
  },
  {
   "cell_type": "code",
   "execution_count": 86,
   "metadata": {},
   "outputs": [
    {
     "data": {
      "text/plain": [
       "Married     0.462822\n",
       "Single      0.389355\n",
       "Unknown     0.073961\n",
       "Divorced    0.073862\n",
       "Name: Marital_Status, dtype: float64"
      ]
     },
     "execution_count": 86,
     "metadata": {},
     "output_type": "execute_result"
    }
   ],
   "source": [
    "#Counts the occurance of each unique value in Marital_Status column\n",
    "df[\"Marital_Status\"].value_counts(normalize=True)"
   ]
  },
  {
   "cell_type": "code",
   "execution_count": 87,
   "metadata": {},
   "outputs": [
    {
     "data": {
      "text/plain": [
       "Less than $40K    0.351634\n",
       "$40K - $60K       0.176755\n",
       "$80K - $120K      0.151575\n",
       "$60K - $80K       0.138442\n",
       "Unknown           0.109805\n",
       "$120K +           0.071788\n",
       "Name: Income_Category, dtype: float64"
      ]
     },
     "execution_count": 87,
     "metadata": {},
     "output_type": "execute_result"
    }
   ],
   "source": [
    "#Counts the occurance of each unique value in Income_Category column\n",
    "df[\"Income_Category\"].value_counts(normalize=True)"
   ]
  },
  {
   "cell_type": "code",
   "execution_count": 88,
   "metadata": {},
   "outputs": [
    {
     "data": {
      "text/plain": [
       "Blue        0.931767\n",
       "Silver      0.054804\n",
       "Gold        0.011455\n",
       "Platinum    0.001975\n",
       "Name: Card_Category, dtype: float64"
      ]
     },
     "execution_count": 88,
     "metadata": {},
     "output_type": "execute_result"
    }
   ],
   "source": [
    "#Counts the occurance of each unique value in Card_Category column\n",
    "df[\"Card_Category\"].value_counts(normalize=True)"
   ]
  },
  {
   "cell_type": "markdown",
   "metadata": {},
   "source": [
    "As we can see there are definitely imbalances in some of the features. What this tells us is that the features with extremely high imbalences are ones that will not provide much information on the target value as they are less variable meaning there is not much information gathered from the feature."
   ]
  },
  {
   "cell_type": "code",
   "execution_count": 89,
   "metadata": {},
   "outputs": [
    {
     "data": {
      "text/plain": [
       "1    8500\n",
       "0    1627\n",
       "Name: Attrition_Flag, dtype: int64"
      ]
     },
     "execution_count": 89,
     "metadata": {},
     "output_type": "execute_result"
    }
   ],
   "source": [
    "#Counts occurance of each unqiue value in variable Y\n",
    "y.value_counts() # Note: imbalance within the target data, will need to be handled"
   ]
  },
  {
   "cell_type": "markdown",
   "metadata": {},
   "source": [
    "Finally, we see the target imbalance again, this will need to be fixed."
   ]
  },
  {
   "cell_type": "markdown",
   "metadata": {},
   "source": [
    "Now we, create Visualizations for each feature by their target value to see if there are any features in which we can already define a trend"
   ]
  },
  {
   "cell_type": "code",
   "execution_count": 90,
   "metadata": {},
   "outputs": [
    {
     "name": "stderr",
     "output_type": "stream",
     "text": [
      "c:\\Users\\ajarcik\\AppData\\Local\\anaconda3\\envs\\learn-env\\lib\\site-packages\\pandas\\core\\frame.py:4163: SettingWithCopyWarning: \n",
      "A value is trying to be set on a copy of a slice from a DataFrame\n",
      "\n",
      "See the caveats in the documentation: https://pandas.pydata.org/pandas-docs/stable/user_guide/indexing.html#returning-a-view-versus-a-copy\n",
      "  return super().drop(\n"
     ]
    },
    {
     "data": {
      "image/png": "[encoded data removed]",
      "text/plain": [
       "<Figure size 2160x7200 with 20 Axes>"
      ]
     },
     "metadata": {
      "needs_background": "light"
     },
     "output_type": "display_data"
    }
   ],
   "source": [
    "# Create a subplot grid of 4 rows and 5 columns, with a specified figure size of 15x12\n",
    "fig, ax = plt.subplots(nrows=10, ncols=2, figsize=(30,100))\n",
    "\n",
    "# Creates dataframes/series for targets and features by target class\n",
    "attrited_cust = df.loc[df[\"Attrition_Flag\"] == 0]\n",
    "other_cust = df.loc[df[\"Attrition_Flag\"] == 1]\n",
    "attrited_cust.drop([\"Attrition_Flag\"], inplace=True, axis=1)\n",
    "other_cust.drop([\"Attrition_Flag\"], inplace=True, axis=1)\n",
    "\n",
    "# For each subplot, plot a histogram of the data from the corresponding column in X dataframe\n",
    "# The column index for the data is calculated as (i*j)-1\n",
    "i = 0\n",
    "j = 0\n",
    "for col in attrited_cust.columns:\n",
    "    if col == \"Education_Level\":\n",
    "        # This handles the plot for Education Level\n",
    "        attrited_cust[col].value_counts().loc[['Unknown', 'Uneducated', 'High School', 'College', 'Graduate', 'Post-Graduate', 'Doctorate']].plot.bar(ax=ax[j][i], color=\"red\", edgecolor=\"black\", lw=1, label=\"Churned\")\n",
    "        other_cust[col].value_counts().loc[['Unknown', 'Uneducated', 'High School', 'College', 'Graduate', 'Post-Graduate', 'Doctorate']].plot.bar(ax=ax[j][i], edgecolor=\"black\", lw=1, fc=(0, 0, 1, 0.5), label=\"No Churn\")\n",
    "        # Sets title of plot\n",
    "        ax[j][i].set_title(f\"{col} by Customer Class\")\n",
    "    elif col == \"Marital_Status\":\n",
    "        # This handles the plot for Marital Status\n",
    "        attrited_cust[col].value_counts().loc[['Unknown', 'Single', 'Married', 'Divorced']].plot.bar(ax=ax[j][i], color=\"red\", edgecolor=\"black\", lw=1, label=\"Churned\")\n",
    "        other_cust[col].value_counts().loc[['Unknown', 'Single', 'Married', 'Divorced']].plot.bar(ax=ax[j][i], edgecolor=\"black\", lw=1, fc=(0, 0, 1, 0.5), label=\"No Churn\")\n",
    "        # Sets title of plot\n",
    "        ax[j][i].set_title(f\"{col} by Customer Class\")\n",
    "    elif col == \"Income_Category\":\n",
    "        # This handles the plot for Income Category\n",
    "        attrited_cust[col].value_counts().loc[['Unknown', 'Less than $40K', '$40K - $60K', '$60K - $80K', '$80K - $120K', '$120K +']].plot.bar(ax=ax[j][i], color=\"red\", edgecolor=\"black\", lw=1, label=\"Churned\")\n",
    "        other_cust[col].value_counts().loc[['Unknown', 'Less than $40K', '$40K - $60K', '$60K - $80K', '$80K - $120K', '$120K +']].plot.bar(ax=ax[j][i], edgecolor=\"black\", lw=1, fc=(0, 0, 1, 0.5), label=\"No Churn\")\n",
    "        # Sets title of plot\n",
    "        ax[j][i].set_title(f\"{col} by Customer Class\")\n",
    "    else:\n",
    "        # This handles the plot for everything else\n",
    "        ax[j][i].hist(attrited_cust[col], color=\"red\", edgecolor=\"black\", lw=1, label=\"Churned\")\n",
    "        ax[j][i].hist(other_cust[col], edgecolor=\"black\", lw=1, fc=(0, 0, 1, 0.5), label=\"No Churn\")\n",
    "        # Sets title of plot\n",
    "        ax[j][i].set_title(f\"{col} by Customer Class\")\n",
    "    # Sets x label\n",
    "    ax[j][i].set_xlabel(col)\n",
    "    # Sets y label\n",
    "    ax[j][i].set_ylabel(\"Count\")\n",
    "    # Sets tick parameters\n",
    "    ax[j][i].tick_params(axis='both', which='major', labelsize=10)\n",
    "    ax[j][i].tick_params(axis='both', which='minor', labelsize=8)\n",
    "    # Creates plot legend\n",
    "    ax[j][i].legend()\n",
    "    # Iterated i and j to the next numbers\n",
    "    if i == 1:\n",
    "        i = 0\n",
    "        j += 1\n",
    "    else:\n",
    "        i += 1"
   ]
  },
  {
   "cell_type": "markdown",
   "metadata": {},
   "source": [
    "As expected, most of the features have similar distributions for attrited and existing customers. This is normal as it is very difficult for the human eye to pick up on these subtle differences visually. However, there are a few features that we can see have a difference. We will go into these two further in the next few cells. "
   ]
  },
  {
   "cell_type": "code",
   "execution_count": 91,
   "metadata": {},
   "outputs": [
    {
     "name": "stdout",
     "output_type": "stream",
     "text": [
      "44.93362015980332\n",
      "68.67258823529411\n",
      "3095.025814382299\n",
      "4654.655882352941\n"
     ]
    }
   ],
   "source": [
    "# Finds the average total transaction count for attrited customers\n",
    "print(attrited_cust[\"Total_Trans_Ct\"].mean())\n",
    "# Finds the average total transaction count for existing customers\n",
    "print(other_cust[\"Total_Trans_Ct\"].mean())\n",
    "# Finds the average total transaction amount for attrited customers\n",
    "print(attrited_cust[\"Total_Trans_Amt\"].mean())\n",
    "# Finds the average total transaction amount for existing customers\n",
    "print(other_cust[\"Total_Trans_Amt\"].mean())"
   ]
  },
  {
   "cell_type": "markdown",
   "metadata": {},
   "source": [
    "As we can see from the means above, there is a clear visual and statistical difference between the two target classes in repect to Total transaction account and amount. This gives us good insight into some of the factors that lead to a customer leaving their current credit card company. Lower transaction amounts/counts implies that the people who leave are not using their card as much as those who stay. This gives information to the model and the company as those with lower amounts and counts probably have a higher probability of leaving that card company."
   ]
  },
  {
   "cell_type": "markdown",
   "metadata": {},
   "source": [
    "This concludes our EDA process, and now that we know what our data looks like, the distributions of it, and the variable types we can begin pre-processing."
   ]
  },
  {
   "cell_type": "markdown",
   "metadata": {},
   "source": [
    "## Preprocessing"
   ]
  },
  {
   "cell_type": "markdown",
   "metadata": {},
   "source": [
    "Pre-processing is the technique that allows us to get our data ready for model consumption. This typically includes scaling, encoding of categorical data, balancing of target classes, dimensionality reduction, and much more. Here we will focus on the four processes that were just listed."
   ]
  },
  {
   "cell_type": "markdown",
   "metadata": {},
   "source": [
    "### OHE and Scaling"
   ]
  },
  {
   "cell_type": "markdown",
   "metadata": {},
   "source": [
    "Due to the fact that we have numerical and categorical data in our dataset, we have to perform One Hot Encoding on all categorical data since models cannot interpret text. Furthermore, we have to conduct scaling on our numerical data so that the model treats all numerical data with the same magnitude."
   ]
  },
  {
   "cell_type": "code",
   "execution_count": 92,
   "metadata": {},
   "outputs": [],
   "source": [
    "#Importing all necessary libraries for use\n",
    "from sklearn.linear_model import LogisticRegression\n",
    "from sklearn.model_selection import train_test_split\n",
    "#OneHotEncoder from scikit-learn can be used to convert categorical variables into dummy one-hot encoded variables:\n",
    "from sklearn.preprocessing import OneHotEncoder\n",
    "import pandas as pd\n",
    "import numpy as np\n",
    "from imblearn.over_sampling import SMOTE"
   ]
  },
  {
   "cell_type": "markdown",
   "metadata": {},
   "source": [
    "Also, we perform our train test split before we do any of the pre-processing because each of these techniques will be conducted on the train and test sets independently."
   ]
  },
  {
   "cell_type": "code",
   "execution_count": 93,
   "metadata": {},
   "outputs": [],
   "source": [
    "#Split dataset into training and testing sets. X is the feature set, y is the target variable\n",
    "X_train, X_test, y_train, y_test = train_test_split(X, y, random_state=0)"
   ]
  },
  {
   "cell_type": "code",
   "execution_count": 94,
   "metadata": {},
   "outputs": [
    {
     "data": {
      "text/html": [
       "<div>\n",
       "<style scoped>\n",
       "    .dataframe tbody tr th:only-of-type {\n",
       "        vertical-align: middle;\n",
       "    }\n",
       "\n",
       "    .dataframe tbody tr th {\n",
       "        vertical-align: top;\n",
       "    }\n",
       "\n",
       "    .dataframe thead th {\n",
       "        text-align: right;\n",
       "    }\n",
       "</style>\n",
       "<table border=\"1\" class=\"dataframe\">\n",
       "  <thead>\n",
       "    <tr style=\"text-align: right;\">\n",
       "      <th></th>\n",
       "      <th>Gender</th>\n",
       "      <th>Education_Level</th>\n",
       "      <th>Marital_Status</th>\n",
       "      <th>Income_Category</th>\n",
       "      <th>Card_Category</th>\n",
       "    </tr>\n",
       "  </thead>\n",
       "  <tbody>\n",
       "    <tr>\n",
       "      <th>6780</th>\n",
       "      <td>F</td>\n",
       "      <td>Uneducated</td>\n",
       "      <td>Single</td>\n",
       "      <td>$40K - $60K</td>\n",
       "      <td>Blue</td>\n",
       "    </tr>\n",
       "    <tr>\n",
       "      <th>4555</th>\n",
       "      <td>M</td>\n",
       "      <td>Unknown</td>\n",
       "      <td>Married</td>\n",
       "      <td>$120K +</td>\n",
       "      <td>Blue</td>\n",
       "    </tr>\n",
       "    <tr>\n",
       "      <th>811</th>\n",
       "      <td>M</td>\n",
       "      <td>Unknown</td>\n",
       "      <td>Divorced</td>\n",
       "      <td>$60K - $80K</td>\n",
       "      <td>Blue</td>\n",
       "    </tr>\n",
       "    <tr>\n",
       "      <th>1940</th>\n",
       "      <td>M</td>\n",
       "      <td>Graduate</td>\n",
       "      <td>Divorced</td>\n",
       "      <td>$40K - $60K</td>\n",
       "      <td>Blue</td>\n",
       "    </tr>\n",
       "    <tr>\n",
       "      <th>6658</th>\n",
       "      <td>F</td>\n",
       "      <td>High School</td>\n",
       "      <td>Single</td>\n",
       "      <td>Less than $40K</td>\n",
       "      <td>Blue</td>\n",
       "    </tr>\n",
       "    <tr>\n",
       "      <th>...</th>\n",
       "      <td>...</td>\n",
       "      <td>...</td>\n",
       "      <td>...</td>\n",
       "      <td>...</td>\n",
       "      <td>...</td>\n",
       "    </tr>\n",
       "    <tr>\n",
       "      <th>9225</th>\n",
       "      <td>M</td>\n",
       "      <td>Unknown</td>\n",
       "      <td>Single</td>\n",
       "      <td>$60K - $80K</td>\n",
       "      <td>Blue</td>\n",
       "    </tr>\n",
       "    <tr>\n",
       "      <th>4859</th>\n",
       "      <td>M</td>\n",
       "      <td>Uneducated</td>\n",
       "      <td>Single</td>\n",
       "      <td>$60K - $80K</td>\n",
       "      <td>Blue</td>\n",
       "    </tr>\n",
       "    <tr>\n",
       "      <th>3264</th>\n",
       "      <td>M</td>\n",
       "      <td>Unknown</td>\n",
       "      <td>Single</td>\n",
       "      <td>$60K - $80K</td>\n",
       "      <td>Blue</td>\n",
       "    </tr>\n",
       "    <tr>\n",
       "      <th>9845</th>\n",
       "      <td>M</td>\n",
       "      <td>College</td>\n",
       "      <td>Married</td>\n",
       "      <td>$120K +</td>\n",
       "      <td>Blue</td>\n",
       "    </tr>\n",
       "    <tr>\n",
       "      <th>2732</th>\n",
       "      <td>F</td>\n",
       "      <td>Unknown</td>\n",
       "      <td>Married</td>\n",
       "      <td>Less than $40K</td>\n",
       "      <td>Blue</td>\n",
       "    </tr>\n",
       "  </tbody>\n",
       "</table>\n",
       "<p>7595 rows × 5 columns</p>\n",
       "</div>"
      ],
      "text/plain": [
       "     Gender Education_Level Marital_Status Income_Category Card_Category\n",
       "6780      F      Uneducated         Single     $40K - $60K          Blue\n",
       "4555      M         Unknown        Married         $120K +          Blue\n",
       "811       M         Unknown       Divorced     $60K - $80K          Blue\n",
       "1940      M        Graduate       Divorced     $40K - $60K          Blue\n",
       "6658      F     High School         Single  Less than $40K          Blue\n",
       "...     ...             ...            ...             ...           ...\n",
       "9225      M         Unknown         Single     $60K - $80K          Blue\n",
       "4859      M      Uneducated         Single     $60K - $80K          Blue\n",
       "3264      M         Unknown         Single     $60K - $80K          Blue\n",
       "9845      M         College        Married         $120K +          Blue\n",
       "2732      F         Unknown        Married  Less than $40K          Blue\n",
       "\n",
       "[7595 rows x 5 columns]"
      ]
     },
     "execution_count": 94,
     "metadata": {},
     "output_type": "execute_result"
    }
   ],
   "source": [
    "# Define a list of column names that represent categorical features in the dataset\n",
    "categorical_features = ['Gender','Education_Level', 'Marital_Status','Income_Category','Card_Category']\n",
    "# Create a new DataFrame 'X_train_categorical' that includes only the categorical columns from the training data\n",
    "X_train_categorical = X_train[categorical_features].copy()\n",
    "# Display the 'X_train_categorical' DataFrame\n",
    "X_train_categorical"
   ]
  },
  {
   "cell_type": "markdown",
   "metadata": {},
   "source": [
    "One hot encoding takes a categorical value and turns it into a binary number in which each bit represents a category. For example, 001 will be the first category, 010 will be the second, 100 will be the third, and 000 will be the baseline category. Since the above code split the dataset into only categorical values we can easily apply this to the dataframe above by doing the following."
   ]
  },
  {
   "cell_type": "code",
   "execution_count": 95,
   "metadata": {},
   "outputs": [],
   "source": [
    "# Initialize a OneHotEncoder from sklearn's preprocessing module\n",
    "ohe = OneHotEncoder(handle_unknown=\"ignore\", sparse=False)\n",
    "# Fit the one hot encoder model\n",
    "ohe.fit(X_train_categorical)\n",
    "# Transform the categorical columns in the training data into one-hot encoded columns\n",
    "X_train_ohe = pd.DataFrame(\n",
    "     # Transform the categorical data into one-hot encoded format\n",
    "    ohe.transform(X_train_categorical),\n",
    "    index=X_train_categorical.index,\n",
    "    # Create column names for the one-hot encoded columns by stacking the categories from each original column\n",
    "    columns=np.hstack(ohe.categories_)\n",
    ")\n",
    "# Display the newly created DataFrame 'X_train_ohe'\n",
    "X_train_ohe.drop([\"Unknown\"], axis=1, inplace=True) # Drops all of the Unknown categories as these will serve as our base case for that individual encoded category\n"
   ]
  },
  {
   "cell_type": "markdown",
   "metadata": {},
   "source": [
    "Now our binary values for each data entry have been recorded in the variable X_train_ohe. We will move to handling the numerical data next."
   ]
  },
  {
   "cell_type": "code",
   "execution_count": 96,
   "metadata": {},
   "outputs": [
    {
     "data": {
      "text/html": [
       "<div>\n",
       "<style scoped>\n",
       "    .dataframe tbody tr th:only-of-type {\n",
       "        vertical-align: middle;\n",
       "    }\n",
       "\n",
       "    .dataframe tbody tr th {\n",
       "        vertical-align: top;\n",
       "    }\n",
       "\n",
       "    .dataframe thead th {\n",
       "        text-align: right;\n",
       "    }\n",
       "</style>\n",
       "<table border=\"1\" class=\"dataframe\">\n",
       "  <thead>\n",
       "    <tr style=\"text-align: right;\">\n",
       "      <th></th>\n",
       "      <th>Customer_Age</th>\n",
       "      <th>Dependent_count</th>\n",
       "      <th>Months_on_book</th>\n",
       "      <th>Total_Relationship_Count</th>\n",
       "      <th>Months_Inactive_12_mon</th>\n",
       "      <th>Contacts_Count_12_mon</th>\n",
       "      <th>Credit_Limit</th>\n",
       "      <th>Total_Revolving_Bal</th>\n",
       "      <th>Avg_Open_To_Buy</th>\n",
       "      <th>Total_Amt_Chng_Q4_Q1</th>\n",
       "      <th>Total_Trans_Amt</th>\n",
       "      <th>Total_Trans_Ct</th>\n",
       "      <th>Total_Ct_Chng_Q4_Q1</th>\n",
       "      <th>Avg_Utilization_Ratio</th>\n",
       "    </tr>\n",
       "  </thead>\n",
       "  <tbody>\n",
       "    <tr>\n",
       "      <th>6780</th>\n",
       "      <td>47</td>\n",
       "      <td>3</td>\n",
       "      <td>35</td>\n",
       "      <td>6</td>\n",
       "      <td>5</td>\n",
       "      <td>2</td>\n",
       "      <td>4543.0</td>\n",
       "      <td>1028</td>\n",
       "      <td>3515.0</td>\n",
       "      <td>0.799</td>\n",
       "      <td>4093</td>\n",
       "      <td>77</td>\n",
       "      <td>0.571</td>\n",
       "      <td>0.226</td>\n",
       "    </tr>\n",
       "    <tr>\n",
       "      <th>4555</th>\n",
       "      <td>43</td>\n",
       "      <td>4</td>\n",
       "      <td>37</td>\n",
       "      <td>3</td>\n",
       "      <td>1</td>\n",
       "      <td>3</td>\n",
       "      <td>20695.0</td>\n",
       "      <td>1250</td>\n",
       "      <td>19445.0</td>\n",
       "      <td>0.605</td>\n",
       "      <td>3924</td>\n",
       "      <td>82</td>\n",
       "      <td>0.783</td>\n",
       "      <td>0.060</td>\n",
       "    </tr>\n",
       "    <tr>\n",
       "      <th>811</th>\n",
       "      <td>43</td>\n",
       "      <td>3</td>\n",
       "      <td>30</td>\n",
       "      <td>3</td>\n",
       "      <td>2</td>\n",
       "      <td>1</td>\n",
       "      <td>2588.0</td>\n",
       "      <td>1669</td>\n",
       "      <td>919.0</td>\n",
       "      <td>0.788</td>\n",
       "      <td>1053</td>\n",
       "      <td>31</td>\n",
       "      <td>0.550</td>\n",
       "      <td>0.645</td>\n",
       "    </tr>\n",
       "    <tr>\n",
       "      <th>1940</th>\n",
       "      <td>36</td>\n",
       "      <td>3</td>\n",
       "      <td>28</td>\n",
       "      <td>4</td>\n",
       "      <td>2</td>\n",
       "      <td>3</td>\n",
       "      <td>8995.0</td>\n",
       "      <td>1547</td>\n",
       "      <td>7448.0</td>\n",
       "      <td>0.923</td>\n",
       "      <td>2398</td>\n",
       "      <td>61</td>\n",
       "      <td>0.794</td>\n",
       "      <td>0.172</td>\n",
       "    </tr>\n",
       "    <tr>\n",
       "      <th>6658</th>\n",
       "      <td>39</td>\n",
       "      <td>1</td>\n",
       "      <td>31</td>\n",
       "      <td>5</td>\n",
       "      <td>2</td>\n",
       "      <td>1</td>\n",
       "      <td>1862.0</td>\n",
       "      <td>726</td>\n",
       "      <td>1136.0</td>\n",
       "      <td>0.630</td>\n",
       "      <td>5105</td>\n",
       "      <td>79</td>\n",
       "      <td>1.026</td>\n",
       "      <td>0.390</td>\n",
       "    </tr>\n",
       "    <tr>\n",
       "      <th>...</th>\n",
       "      <td>...</td>\n",
       "      <td>...</td>\n",
       "      <td>...</td>\n",
       "      <td>...</td>\n",
       "      <td>...</td>\n",
       "      <td>...</td>\n",
       "      <td>...</td>\n",
       "      <td>...</td>\n",
       "      <td>...</td>\n",
       "      <td>...</td>\n",
       "      <td>...</td>\n",
       "      <td>...</td>\n",
       "      <td>...</td>\n",
       "      <td>...</td>\n",
       "    </tr>\n",
       "    <tr>\n",
       "      <th>9225</th>\n",
       "      <td>30</td>\n",
       "      <td>0</td>\n",
       "      <td>20</td>\n",
       "      <td>1</td>\n",
       "      <td>3</td>\n",
       "      <td>3</td>\n",
       "      <td>23760.0</td>\n",
       "      <td>1349</td>\n",
       "      <td>22411.0</td>\n",
       "      <td>0.961</td>\n",
       "      <td>13124</td>\n",
       "      <td>103</td>\n",
       "      <td>0.746</td>\n",
       "      <td>0.057</td>\n",
       "    </tr>\n",
       "    <tr>\n",
       "      <th>4859</th>\n",
       "      <td>50</td>\n",
       "      <td>2</td>\n",
       "      <td>43</td>\n",
       "      <td>4</td>\n",
       "      <td>3</td>\n",
       "      <td>3</td>\n",
       "      <td>4388.0</td>\n",
       "      <td>642</td>\n",
       "      <td>3746.0</td>\n",
       "      <td>0.815</td>\n",
       "      <td>3836</td>\n",
       "      <td>81</td>\n",
       "      <td>0.723</td>\n",
       "      <td>0.146</td>\n",
       "    </tr>\n",
       "    <tr>\n",
       "      <th>3264</th>\n",
       "      <td>60</td>\n",
       "      <td>1</td>\n",
       "      <td>50</td>\n",
       "      <td>4</td>\n",
       "      <td>3</td>\n",
       "      <td>0</td>\n",
       "      <td>10698.0</td>\n",
       "      <td>1790</td>\n",
       "      <td>8908.0</td>\n",
       "      <td>0.981</td>\n",
       "      <td>4095</td>\n",
       "      <td>67</td>\n",
       "      <td>0.914</td>\n",
       "      <td>0.167</td>\n",
       "    </tr>\n",
       "    <tr>\n",
       "      <th>9845</th>\n",
       "      <td>51</td>\n",
       "      <td>3</td>\n",
       "      <td>40</td>\n",
       "      <td>3</td>\n",
       "      <td>3</td>\n",
       "      <td>2</td>\n",
       "      <td>34516.0</td>\n",
       "      <td>1476</td>\n",
       "      <td>33040.0</td>\n",
       "      <td>0.763</td>\n",
       "      <td>14145</td>\n",
       "      <td>119</td>\n",
       "      <td>0.776</td>\n",
       "      <td>0.043</td>\n",
       "    </tr>\n",
       "    <tr>\n",
       "      <th>2732</th>\n",
       "      <td>53</td>\n",
       "      <td>1</td>\n",
       "      <td>40</td>\n",
       "      <td>4</td>\n",
       "      <td>2</td>\n",
       "      <td>4</td>\n",
       "      <td>2383.0</td>\n",
       "      <td>1938</td>\n",
       "      <td>445.0</td>\n",
       "      <td>0.597</td>\n",
       "      <td>1616</td>\n",
       "      <td>37</td>\n",
       "      <td>0.682</td>\n",
       "      <td>0.813</td>\n",
       "    </tr>\n",
       "  </tbody>\n",
       "</table>\n",
       "<p>7595 rows × 14 columns</p>\n",
       "</div>"
      ],
      "text/plain": [
       "      Customer_Age  Dependent_count  Months_on_book  Total_Relationship_Count  \\\n",
       "6780            47                3              35                         6   \n",
       "4555            43                4              37                         3   \n",
       "811             43                3              30                         3   \n",
       "1940            36                3              28                         4   \n",
       "6658            39                1              31                         5   \n",
       "...            ...              ...             ...                       ...   \n",
       "9225            30                0              20                         1   \n",
       "4859            50                2              43                         4   \n",
       "3264            60                1              50                         4   \n",
       "9845            51                3              40                         3   \n",
       "2732            53                1              40                         4   \n",
       "\n",
       "      Months_Inactive_12_mon  Contacts_Count_12_mon  Credit_Limit  \\\n",
       "6780                       5                      2        4543.0   \n",
       "4555                       1                      3       20695.0   \n",
       "811                        2                      1        2588.0   \n",
       "1940                       2                      3        8995.0   \n",
       "6658                       2                      1        1862.0   \n",
       "...                      ...                    ...           ...   \n",
       "9225                       3                      3       23760.0   \n",
       "4859                       3                      3        4388.0   \n",
       "3264                       3                      0       10698.0   \n",
       "9845                       3                      2       34516.0   \n",
       "2732                       2                      4        2383.0   \n",
       "\n",
       "      Total_Revolving_Bal  Avg_Open_To_Buy  Total_Amt_Chng_Q4_Q1  \\\n",
       "6780                 1028           3515.0                 0.799   \n",
       "4555                 1250          19445.0                 0.605   \n",
       "811                  1669            919.0                 0.788   \n",
       "1940                 1547           7448.0                 0.923   \n",
       "6658                  726           1136.0                 0.630   \n",
       "...                   ...              ...                   ...   \n",
       "9225                 1349          22411.0                 0.961   \n",
       "4859                  642           3746.0                 0.815   \n",
       "3264                 1790           8908.0                 0.981   \n",
       "9845                 1476          33040.0                 0.763   \n",
       "2732                 1938            445.0                 0.597   \n",
       "\n",
       "      Total_Trans_Amt  Total_Trans_Ct  Total_Ct_Chng_Q4_Q1  \\\n",
       "6780             4093              77                0.571   \n",
       "4555             3924              82                0.783   \n",
       "811              1053              31                0.550   \n",
       "1940             2398              61                0.794   \n",
       "6658             5105              79                1.026   \n",
       "...               ...             ...                  ...   \n",
       "9225            13124             103                0.746   \n",
       "4859             3836              81                0.723   \n",
       "3264             4095              67                0.914   \n",
       "9845            14145             119                0.776   \n",
       "2732             1616              37                0.682   \n",
       "\n",
       "      Avg_Utilization_Ratio  \n",
       "6780                  0.226  \n",
       "4555                  0.060  \n",
       "811                   0.645  \n",
       "1940                  0.172  \n",
       "6658                  0.390  \n",
       "...                     ...  \n",
       "9225                  0.057  \n",
       "4859                  0.146  \n",
       "3264                  0.167  \n",
       "9845                  0.043  \n",
       "2732                  0.813  \n",
       "\n",
       "[7595 rows x 14 columns]"
      ]
     },
     "execution_count": 96,
     "metadata": {},
     "output_type": "execute_result"
    }
   ],
   "source": [
    "#Define a list of column names that represent numeric features in the dataset\n",
    "numeric_features = ['Customer_Age', 'Dependent_count',\n",
    "       'Months_on_book', 'Total_Relationship_Count', 'Months_Inactive_12_mon',\n",
    "       'Contacts_Count_12_mon', 'Credit_Limit', 'Total_Revolving_Bal',\n",
    "       'Avg_Open_To_Buy', 'Total_Amt_Chng_Q4_Q1', 'Total_Trans_Amt',\n",
    "       'Total_Trans_Ct', 'Total_Ct_Chng_Q4_Q1', 'Avg_Utilization_Ratio']\n",
    "# Create a new DataFrame 'X_train_numeric' that includes only the numeric columns from the training data\n",
    "X_train_numeric = X_train[numeric_features].copy()\n",
    "# Display the 'X_train_numeric' DataFrame\n",
    "X_train_numeric"
   ]
  },
  {
   "cell_type": "markdown",
   "metadata": {},
   "source": [
    "The code above split out all of the numerical data so now we are able to apply Standard Scaler to the dataframe above in order to normalize all of the data points with a normal distribution. This will ensure that the model treats every feature with the same weight."
   ]
  },
  {
   "cell_type": "code",
   "execution_count": 97,
   "metadata": {},
   "outputs": [
    {
     "data": {
      "text/html": [
       "<div>\n",
       "<style scoped>\n",
       "    .dataframe tbody tr th:only-of-type {\n",
       "        vertical-align: middle;\n",
       "    }\n",
       "\n",
       "    .dataframe tbody tr th {\n",
       "        vertical-align: top;\n",
       "    }\n",
       "\n",
       "    .dataframe thead th {\n",
       "        text-align: right;\n",
       "    }\n",
       "</style>\n",
       "<table border=\"1\" class=\"dataframe\">\n",
       "  <thead>\n",
       "    <tr style=\"text-align: right;\">\n",
       "      <th></th>\n",
       "      <th>Customer_Age</th>\n",
       "      <th>Dependent_count</th>\n",
       "      <th>Months_on_book</th>\n",
       "      <th>Total_Relationship_Count</th>\n",
       "      <th>Months_Inactive_12_mon</th>\n",
       "      <th>Contacts_Count_12_mon</th>\n",
       "      <th>Credit_Limit</th>\n",
       "      <th>Total_Revolving_Bal</th>\n",
       "      <th>Avg_Open_To_Buy</th>\n",
       "      <th>Total_Amt_Chng_Q4_Q1</th>\n",
       "      <th>...</th>\n",
       "      <th>Single</th>\n",
       "      <th>$120K +</th>\n",
       "      <th>$40K - $60K</th>\n",
       "      <th>$60K - $80K</th>\n",
       "      <th>$80K - $120K</th>\n",
       "      <th>Less than $40K</th>\n",
       "      <th>Blue</th>\n",
       "      <th>Gold</th>\n",
       "      <th>Platinum</th>\n",
       "      <th>Silver</th>\n",
       "    </tr>\n",
       "  </thead>\n",
       "  <tbody>\n",
       "    <tr>\n",
       "      <th>6780</th>\n",
       "      <td>0.073104</td>\n",
       "      <td>0.503516</td>\n",
       "      <td>-0.124793</td>\n",
       "      <td>1.411757</td>\n",
       "      <td>2.614490</td>\n",
       "      <td>-0.408356</td>\n",
       "      <td>-0.454138</td>\n",
       "      <td>-0.160888</td>\n",
       "      <td>-0.439756</td>\n",
       "      <td>0.178225</td>\n",
       "      <td>...</td>\n",
       "      <td>1.0</td>\n",
       "      <td>0.0</td>\n",
       "      <td>1.0</td>\n",
       "      <td>0.0</td>\n",
       "      <td>0.0</td>\n",
       "      <td>0.0</td>\n",
       "      <td>1.0</td>\n",
       "      <td>0.0</td>\n",
       "      <td>0.0</td>\n",
       "      <td>0.0</td>\n",
       "    </tr>\n",
       "    <tr>\n",
       "      <th>4555</th>\n",
       "      <td>-0.426760</td>\n",
       "      <td>1.274058</td>\n",
       "      <td>0.126314</td>\n",
       "      <td>-0.518913</td>\n",
       "      <td>-1.320522</td>\n",
       "      <td>0.488539</td>\n",
       "      <td>1.322717</td>\n",
       "      <td>0.110302</td>\n",
       "      <td>1.313105</td>\n",
       "      <td>-0.702404</td>\n",
       "      <td>...</td>\n",
       "      <td>0.0</td>\n",
       "      <td>1.0</td>\n",
       "      <td>0.0</td>\n",
       "      <td>0.0</td>\n",
       "      <td>0.0</td>\n",
       "      <td>0.0</td>\n",
       "      <td>1.0</td>\n",
       "      <td>0.0</td>\n",
       "      <td>0.0</td>\n",
       "      <td>0.0</td>\n",
       "    </tr>\n",
       "    <tr>\n",
       "      <th>811</th>\n",
       "      <td>-0.426760</td>\n",
       "      <td>0.503516</td>\n",
       "      <td>-0.752561</td>\n",
       "      <td>-0.518913</td>\n",
       "      <td>-0.336769</td>\n",
       "      <td>-1.305251</td>\n",
       "      <td>-0.669204</td>\n",
       "      <td>0.622144</td>\n",
       "      <td>-0.725408</td>\n",
       "      <td>0.128292</td>\n",
       "      <td>...</td>\n",
       "      <td>0.0</td>\n",
       "      <td>0.0</td>\n",
       "      <td>0.0</td>\n",
       "      <td>1.0</td>\n",
       "      <td>0.0</td>\n",
       "      <td>0.0</td>\n",
       "      <td>1.0</td>\n",
       "      <td>0.0</td>\n",
       "      <td>0.0</td>\n",
       "      <td>0.0</td>\n",
       "    </tr>\n",
       "    <tr>\n",
       "      <th>1940</th>\n",
       "      <td>-1.301523</td>\n",
       "      <td>0.503516</td>\n",
       "      <td>-1.003668</td>\n",
       "      <td>0.124644</td>\n",
       "      <td>-0.336769</td>\n",
       "      <td>0.488539</td>\n",
       "      <td>0.035620</td>\n",
       "      <td>0.473111</td>\n",
       "      <td>-0.006988</td>\n",
       "      <td>0.741101</td>\n",
       "      <td>...</td>\n",
       "      <td>0.0</td>\n",
       "      <td>0.0</td>\n",
       "      <td>1.0</td>\n",
       "      <td>0.0</td>\n",
       "      <td>0.0</td>\n",
       "      <td>0.0</td>\n",
       "      <td>1.0</td>\n",
       "      <td>0.0</td>\n",
       "      <td>0.0</td>\n",
       "      <td>0.0</td>\n",
       "    </tr>\n",
       "    <tr>\n",
       "      <th>6658</th>\n",
       "      <td>-0.926625</td>\n",
       "      <td>-1.037569</td>\n",
       "      <td>-0.627007</td>\n",
       "      <td>0.768201</td>\n",
       "      <td>-0.336769</td>\n",
       "      <td>-1.305251</td>\n",
       "      <td>-0.749070</td>\n",
       "      <td>-0.529804</td>\n",
       "      <td>-0.701530</td>\n",
       "      <td>-0.588921</td>\n",
       "      <td>...</td>\n",
       "      <td>1.0</td>\n",
       "      <td>0.0</td>\n",
       "      <td>0.0</td>\n",
       "      <td>0.0</td>\n",
       "      <td>0.0</td>\n",
       "      <td>1.0</td>\n",
       "      <td>1.0</td>\n",
       "      <td>0.0</td>\n",
       "      <td>0.0</td>\n",
       "      <td>0.0</td>\n",
       "    </tr>\n",
       "    <tr>\n",
       "      <th>...</th>\n",
       "      <td>...</td>\n",
       "      <td>...</td>\n",
       "      <td>...</td>\n",
       "      <td>...</td>\n",
       "      <td>...</td>\n",
       "      <td>...</td>\n",
       "      <td>...</td>\n",
       "      <td>...</td>\n",
       "      <td>...</td>\n",
       "      <td>...</td>\n",
       "      <td>...</td>\n",
       "      <td>...</td>\n",
       "      <td>...</td>\n",
       "      <td>...</td>\n",
       "      <td>...</td>\n",
       "      <td>...</td>\n",
       "      <td>...</td>\n",
       "      <td>...</td>\n",
       "      <td>...</td>\n",
       "      <td>...</td>\n",
       "      <td>...</td>\n",
       "    </tr>\n",
       "    <tr>\n",
       "      <th>9225</th>\n",
       "      <td>-2.051319</td>\n",
       "      <td>-1.808111</td>\n",
       "      <td>-2.008096</td>\n",
       "      <td>-1.806026</td>\n",
       "      <td>0.646984</td>\n",
       "      <td>0.488539</td>\n",
       "      <td>1.659893</td>\n",
       "      <td>0.231239</td>\n",
       "      <td>1.639469</td>\n",
       "      <td>0.913595</td>\n",
       "      <td>...</td>\n",
       "      <td>1.0</td>\n",
       "      <td>0.0</td>\n",
       "      <td>0.0</td>\n",
       "      <td>1.0</td>\n",
       "      <td>0.0</td>\n",
       "      <td>0.0</td>\n",
       "      <td>1.0</td>\n",
       "      <td>0.0</td>\n",
       "      <td>0.0</td>\n",
       "      <td>0.0</td>\n",
       "    </tr>\n",
       "    <tr>\n",
       "      <th>4859</th>\n",
       "      <td>0.448002</td>\n",
       "      <td>-0.267027</td>\n",
       "      <td>0.879635</td>\n",
       "      <td>0.124644</td>\n",
       "      <td>0.646984</td>\n",
       "      <td>0.488539</td>\n",
       "      <td>-0.471189</td>\n",
       "      <td>-0.632417</td>\n",
       "      <td>-0.414338</td>\n",
       "      <td>0.250854</td>\n",
       "      <td>...</td>\n",
       "      <td>1.0</td>\n",
       "      <td>0.0</td>\n",
       "      <td>0.0</td>\n",
       "      <td>1.0</td>\n",
       "      <td>0.0</td>\n",
       "      <td>0.0</td>\n",
       "      <td>1.0</td>\n",
       "      <td>0.0</td>\n",
       "      <td>0.0</td>\n",
       "      <td>0.0</td>\n",
       "    </tr>\n",
       "    <tr>\n",
       "      <th>3264</th>\n",
       "      <td>1.697663</td>\n",
       "      <td>-1.037569</td>\n",
       "      <td>1.758509</td>\n",
       "      <td>0.124644</td>\n",
       "      <td>0.646984</td>\n",
       "      <td>-2.202146</td>\n",
       "      <td>0.222964</td>\n",
       "      <td>0.769955</td>\n",
       "      <td>0.153664</td>\n",
       "      <td>1.004382</td>\n",
       "      <td>...</td>\n",
       "      <td>1.0</td>\n",
       "      <td>0.0</td>\n",
       "      <td>0.0</td>\n",
       "      <td>1.0</td>\n",
       "      <td>0.0</td>\n",
       "      <td>0.0</td>\n",
       "      <td>1.0</td>\n",
       "      <td>0.0</td>\n",
       "      <td>0.0</td>\n",
       "      <td>0.0</td>\n",
       "    </tr>\n",
       "    <tr>\n",
       "      <th>9845</th>\n",
       "      <td>0.572968</td>\n",
       "      <td>0.503516</td>\n",
       "      <td>0.502974</td>\n",
       "      <td>-0.518913</td>\n",
       "      <td>0.646984</td>\n",
       "      <td>-0.408356</td>\n",
       "      <td>2.843143</td>\n",
       "      <td>0.386379</td>\n",
       "      <td>2.809034</td>\n",
       "      <td>0.014809</td>\n",
       "      <td>...</td>\n",
       "      <td>0.0</td>\n",
       "      <td>1.0</td>\n",
       "      <td>0.0</td>\n",
       "      <td>0.0</td>\n",
       "      <td>0.0</td>\n",
       "      <td>0.0</td>\n",
       "      <td>1.0</td>\n",
       "      <td>0.0</td>\n",
       "      <td>0.0</td>\n",
       "      <td>0.0</td>\n",
       "    </tr>\n",
       "    <tr>\n",
       "      <th>2732</th>\n",
       "      <td>0.822900</td>\n",
       "      <td>-1.037569</td>\n",
       "      <td>0.502974</td>\n",
       "      <td>0.124644</td>\n",
       "      <td>-0.336769</td>\n",
       "      <td>1.385434</td>\n",
       "      <td>-0.691756</td>\n",
       "      <td>0.950748</td>\n",
       "      <td>-0.777565</td>\n",
       "      <td>-0.738719</td>\n",
       "      <td>...</td>\n",
       "      <td>0.0</td>\n",
       "      <td>0.0</td>\n",
       "      <td>0.0</td>\n",
       "      <td>0.0</td>\n",
       "      <td>0.0</td>\n",
       "      <td>1.0</td>\n",
       "      <td>1.0</td>\n",
       "      <td>0.0</td>\n",
       "      <td>0.0</td>\n",
       "      <td>0.0</td>\n",
       "    </tr>\n",
       "  </tbody>\n",
       "</table>\n",
       "<p>7595 rows × 34 columns</p>\n",
       "</div>"
      ],
      "text/plain": [
       "      Customer_Age  Dependent_count  Months_on_book  Total_Relationship_Count  \\\n",
       "6780      0.073104         0.503516       -0.124793                  1.411757   \n",
       "4555     -0.426760         1.274058        0.126314                 -0.518913   \n",
       "811      -0.426760         0.503516       -0.752561                 -0.518913   \n",
       "1940     -1.301523         0.503516       -1.003668                  0.124644   \n",
       "6658     -0.926625        -1.037569       -0.627007                  0.768201   \n",
       "...            ...              ...             ...                       ...   \n",
       "9225     -2.051319        -1.808111       -2.008096                 -1.806026   \n",
       "4859      0.448002        -0.267027        0.879635                  0.124644   \n",
       "3264      1.697663        -1.037569        1.758509                  0.124644   \n",
       "9845      0.572968         0.503516        0.502974                 -0.518913   \n",
       "2732      0.822900        -1.037569        0.502974                  0.124644   \n",
       "\n",
       "      Months_Inactive_12_mon  Contacts_Count_12_mon  Credit_Limit  \\\n",
       "6780                2.614490              -0.408356     -0.454138   \n",
       "4555               -1.320522               0.488539      1.322717   \n",
       "811                -0.336769              -1.305251     -0.669204   \n",
       "1940               -0.336769               0.488539      0.035620   \n",
       "6658               -0.336769              -1.305251     -0.749070   \n",
       "...                      ...                    ...           ...   \n",
       "9225                0.646984               0.488539      1.659893   \n",
       "4859                0.646984               0.488539     -0.471189   \n",
       "3264                0.646984              -2.202146      0.222964   \n",
       "9845                0.646984              -0.408356      2.843143   \n",
       "2732               -0.336769               1.385434     -0.691756   \n",
       "\n",
       "      Total_Revolving_Bal  Avg_Open_To_Buy  Total_Amt_Chng_Q4_Q1  ...  Single  \\\n",
       "6780            -0.160888        -0.439756              0.178225  ...     1.0   \n",
       "4555             0.110302         1.313105             -0.702404  ...     0.0   \n",
       "811              0.622144        -0.725408              0.128292  ...     0.0   \n",
       "1940             0.473111        -0.006988              0.741101  ...     0.0   \n",
       "6658            -0.529804        -0.701530             -0.588921  ...     1.0   \n",
       "...                   ...              ...                   ...  ...     ...   \n",
       "9225             0.231239         1.639469              0.913595  ...     1.0   \n",
       "4859            -0.632417        -0.414338              0.250854  ...     1.0   \n",
       "3264             0.769955         0.153664              1.004382  ...     1.0   \n",
       "9845             0.386379         2.809034              0.014809  ...     0.0   \n",
       "2732             0.950748        -0.777565             -0.738719  ...     0.0   \n",
       "\n",
       "      $120K +  $40K - $60K  $60K - $80K  $80K - $120K  Less than $40K  Blue  \\\n",
       "6780      0.0          1.0          0.0           0.0             0.0   1.0   \n",
       "4555      1.0          0.0          0.0           0.0             0.0   1.0   \n",
       "811       0.0          0.0          1.0           0.0             0.0   1.0   \n",
       "1940      0.0          1.0          0.0           0.0             0.0   1.0   \n",
       "6658      0.0          0.0          0.0           0.0             1.0   1.0   \n",
       "...       ...          ...          ...           ...             ...   ...   \n",
       "9225      0.0          0.0          1.0           0.0             0.0   1.0   \n",
       "4859      0.0          0.0          1.0           0.0             0.0   1.0   \n",
       "3264      0.0          0.0          1.0           0.0             0.0   1.0   \n",
       "9845      1.0          0.0          0.0           0.0             0.0   1.0   \n",
       "2732      0.0          0.0          0.0           0.0             1.0   1.0   \n",
       "\n",
       "      Gold  Platinum  Silver  \n",
       "6780   0.0       0.0     0.0  \n",
       "4555   0.0       0.0     0.0  \n",
       "811    0.0       0.0     0.0  \n",
       "1940   0.0       0.0     0.0  \n",
       "6658   0.0       0.0     0.0  \n",
       "...    ...       ...     ...  \n",
       "9225   0.0       0.0     0.0  \n",
       "4859   0.0       0.0     0.0  \n",
       "3264   0.0       0.0     0.0  \n",
       "9845   0.0       0.0     0.0  \n",
       "2732   0.0       0.0     0.0  \n",
       "\n",
       "[7595 rows x 34 columns]"
      ]
     },
     "execution_count": 97,
     "metadata": {},
     "output_type": "execute_result"
    }
   ],
   "source": [
    "# Import MinMaxScaler from the sklearn.preprocessing\n",
    "from sklearn.preprocessing import StandardScaler # MinMax\n",
    "# Instantiate the MinMaxScaler\n",
    "scaler = StandardScaler()\n",
    "# Fit the MinMaxScaler to the numeric columns in the training data\n",
    "scaler.fit(X_train_numeric)\n",
    "X_train_scaled = pd.DataFrame(\n",
    "    scaler.transform(X_train_numeric),\n",
    "    # index is important to ensure we can concatenate with other columns\n",
    "    index=X_train_numeric.index,\n",
    "    columns=X_train_numeric.columns\n",
    ")\n",
    "\n",
    "# Concatenate the scaled numeric DataFrame 'X_train_scaled' and the one-hot encoded DataFrame 'X_train_ohe'\n",
    "X_train_full = pd.concat([X_train_scaled, X_train_ohe], axis=1)\n",
    "# Display the newly created DataFrame 'X_train_full'\n",
    "X_train_full"
   ]
  },
  {
   "cell_type": "markdown",
   "metadata": {},
   "source": [
    "This following cell simply does the above two operations on the test data, except it is all done within the same cell."
   ]
  },
  {
   "cell_type": "code",
   "execution_count": 98,
   "metadata": {},
   "outputs": [
    {
     "data": {
      "text/html": [
       "<div>\n",
       "<style scoped>\n",
       "    .dataframe tbody tr th:only-of-type {\n",
       "        vertical-align: middle;\n",
       "    }\n",
       "\n",
       "    .dataframe tbody tr th {\n",
       "        vertical-align: top;\n",
       "    }\n",
       "\n",
       "    .dataframe thead th {\n",
       "        text-align: right;\n",
       "    }\n",
       "</style>\n",
       "<table border=\"1\" class=\"dataframe\">\n",
       "  <thead>\n",
       "    <tr style=\"text-align: right;\">\n",
       "      <th></th>\n",
       "      <th>Customer_Age</th>\n",
       "      <th>Dependent_count</th>\n",
       "      <th>Months_on_book</th>\n",
       "      <th>Total_Relationship_Count</th>\n",
       "      <th>Months_Inactive_12_mon</th>\n",
       "      <th>Contacts_Count_12_mon</th>\n",
       "      <th>Credit_Limit</th>\n",
       "      <th>Total_Revolving_Bal</th>\n",
       "      <th>Avg_Open_To_Buy</th>\n",
       "      <th>Total_Amt_Chng_Q4_Q1</th>\n",
       "      <th>...</th>\n",
       "      <th>Single</th>\n",
       "      <th>$120K +</th>\n",
       "      <th>$40K - $60K</th>\n",
       "      <th>$60K - $80K</th>\n",
       "      <th>$80K - $120K</th>\n",
       "      <th>Less than $40K</th>\n",
       "      <th>Blue</th>\n",
       "      <th>Gold</th>\n",
       "      <th>Platinum</th>\n",
       "      <th>Silver</th>\n",
       "    </tr>\n",
       "  </thead>\n",
       "  <tbody>\n",
       "    <tr>\n",
       "      <th>3358</th>\n",
       "      <td>-0.301794</td>\n",
       "      <td>2.044600</td>\n",
       "      <td>0.377421</td>\n",
       "      <td>0.768201</td>\n",
       "      <td>-0.336769</td>\n",
       "      <td>-2.202146</td>\n",
       "      <td>0.809968</td>\n",
       "      <td>0.534190</td>\n",
       "      <td>0.762049</td>\n",
       "      <td>0.069281</td>\n",
       "      <td>...</td>\n",
       "      <td>0.0</td>\n",
       "      <td>0.0</td>\n",
       "      <td>0.0</td>\n",
       "      <td>1.0</td>\n",
       "      <td>0.0</td>\n",
       "      <td>0.0</td>\n",
       "      <td>1.0</td>\n",
       "      <td>0.0</td>\n",
       "      <td>0.0</td>\n",
       "      <td>0.0</td>\n",
       "    </tr>\n",
       "    <tr>\n",
       "      <th>9951</th>\n",
       "      <td>-0.301794</td>\n",
       "      <td>0.503516</td>\n",
       "      <td>-0.250347</td>\n",
       "      <td>-1.162469</td>\n",
       "      <td>0.646984</td>\n",
       "      <td>0.488539</td>\n",
       "      <td>1.908622</td>\n",
       "      <td>-1.416670</td>\n",
       "      <td>2.036697</td>\n",
       "      <td>1.272202</td>\n",
       "      <td>...</td>\n",
       "      <td>1.0</td>\n",
       "      <td>0.0</td>\n",
       "      <td>0.0</td>\n",
       "      <td>0.0</td>\n",
       "      <td>0.0</td>\n",
       "      <td>0.0</td>\n",
       "      <td>1.0</td>\n",
       "      <td>0.0</td>\n",
       "      <td>0.0</td>\n",
       "      <td>0.0</td>\n",
       "    </tr>\n",
       "    <tr>\n",
       "      <th>3848</th>\n",
       "      <td>-1.176557</td>\n",
       "      <td>0.503516</td>\n",
       "      <td>-1.254775</td>\n",
       "      <td>-0.518913</td>\n",
       "      <td>-1.320522</td>\n",
       "      <td>-0.408356</td>\n",
       "      <td>-0.633011</td>\n",
       "      <td>1.290347</td>\n",
       "      <td>-0.749395</td>\n",
       "      <td>0.228157</td>\n",
       "      <td>...</td>\n",
       "      <td>1.0</td>\n",
       "      <td>0.0</td>\n",
       "      <td>0.0</td>\n",
       "      <td>0.0</td>\n",
       "      <td>0.0</td>\n",
       "      <td>1.0</td>\n",
       "      <td>1.0</td>\n",
       "      <td>0.0</td>\n",
       "      <td>0.0</td>\n",
       "      <td>0.0</td>\n",
       "    </tr>\n",
       "    <tr>\n",
       "      <th>1666</th>\n",
       "      <td>-1.551455</td>\n",
       "      <td>-1.037569</td>\n",
       "      <td>0.000760</td>\n",
       "      <td>1.411757</td>\n",
       "      <td>-0.336769</td>\n",
       "      <td>0.488539</td>\n",
       "      <td>-0.543024</td>\n",
       "      <td>0.153058</td>\n",
       "      <td>-0.556944</td>\n",
       "      <td>1.244966</td>\n",
       "      <td>...</td>\n",
       "      <td>0.0</td>\n",
       "      <td>0.0</td>\n",
       "      <td>1.0</td>\n",
       "      <td>0.0</td>\n",
       "      <td>0.0</td>\n",
       "      <td>0.0</td>\n",
       "      <td>1.0</td>\n",
       "      <td>0.0</td>\n",
       "      <td>0.0</td>\n",
       "      <td>0.0</td>\n",
       "    </tr>\n",
       "    <tr>\n",
       "      <th>8383</th>\n",
       "      <td>0.572968</td>\n",
       "      <td>1.274058</td>\n",
       "      <td>-0.375900</td>\n",
       "      <td>-1.162469</td>\n",
       "      <td>1.630737</td>\n",
       "      <td>0.488539</td>\n",
       "      <td>-0.616400</td>\n",
       "      <td>1.113218</td>\n",
       "      <td>-0.716825</td>\n",
       "      <td>0.427888</td>\n",
       "      <td>...</td>\n",
       "      <td>1.0</td>\n",
       "      <td>0.0</td>\n",
       "      <td>0.0</td>\n",
       "      <td>0.0</td>\n",
       "      <td>0.0</td>\n",
       "      <td>1.0</td>\n",
       "      <td>1.0</td>\n",
       "      <td>0.0</td>\n",
       "      <td>0.0</td>\n",
       "      <td>0.0</td>\n",
       "    </tr>\n",
       "    <tr>\n",
       "      <th>...</th>\n",
       "      <td>...</td>\n",
       "      <td>...</td>\n",
       "      <td>...</td>\n",
       "      <td>...</td>\n",
       "      <td>...</td>\n",
       "      <td>...</td>\n",
       "      <td>...</td>\n",
       "      <td>...</td>\n",
       "      <td>...</td>\n",
       "      <td>...</td>\n",
       "      <td>...</td>\n",
       "      <td>...</td>\n",
       "      <td>...</td>\n",
       "      <td>...</td>\n",
       "      <td>...</td>\n",
       "      <td>...</td>\n",
       "      <td>...</td>\n",
       "      <td>...</td>\n",
       "      <td>...</td>\n",
       "      <td>...</td>\n",
       "      <td>...</td>\n",
       "    </tr>\n",
       "    <tr>\n",
       "      <th>1652</th>\n",
       "      <td>-1.301523</td>\n",
       "      <td>-1.037569</td>\n",
       "      <td>0.000760</td>\n",
       "      <td>-0.518913</td>\n",
       "      <td>0.646984</td>\n",
       "      <td>1.385434</td>\n",
       "      <td>-0.667774</td>\n",
       "      <td>0.802937</td>\n",
       "      <td>-0.740263</td>\n",
       "      <td>-0.439123</td>\n",
       "      <td>...</td>\n",
       "      <td>1.0</td>\n",
       "      <td>0.0</td>\n",
       "      <td>0.0</td>\n",
       "      <td>1.0</td>\n",
       "      <td>0.0</td>\n",
       "      <td>0.0</td>\n",
       "      <td>1.0</td>\n",
       "      <td>0.0</td>\n",
       "      <td>0.0</td>\n",
       "      <td>0.0</td>\n",
       "    </tr>\n",
       "    <tr>\n",
       "      <th>5252</th>\n",
       "      <td>-0.426760</td>\n",
       "      <td>0.503516</td>\n",
       "      <td>0.000760</td>\n",
       "      <td>-0.518913</td>\n",
       "      <td>0.646984</td>\n",
       "      <td>-0.408356</td>\n",
       "      <td>0.011638</td>\n",
       "      <td>1.658042</td>\n",
       "      <td>-0.137710</td>\n",
       "      <td>-0.289326</td>\n",
       "      <td>...</td>\n",
       "      <td>0.0</td>\n",
       "      <td>0.0</td>\n",
       "      <td>0.0</td>\n",
       "      <td>0.0</td>\n",
       "      <td>0.0</td>\n",
       "      <td>0.0</td>\n",
       "      <td>1.0</td>\n",
       "      <td>0.0</td>\n",
       "      <td>0.0</td>\n",
       "      <td>0.0</td>\n",
       "    </tr>\n",
       "    <tr>\n",
       "      <th>6955</th>\n",
       "      <td>-1.051591</td>\n",
       "      <td>-0.267027</td>\n",
       "      <td>-0.627007</td>\n",
       "      <td>1.411757</td>\n",
       "      <td>0.646984</td>\n",
       "      <td>0.488539</td>\n",
       "      <td>-0.599459</td>\n",
       "      <td>-1.416670</td>\n",
       "      <td>-0.471997</td>\n",
       "      <td>0.119214</td>\n",
       "      <td>...</td>\n",
       "      <td>0.0</td>\n",
       "      <td>0.0</td>\n",
       "      <td>0.0</td>\n",
       "      <td>0.0</td>\n",
       "      <td>0.0</td>\n",
       "      <td>1.0</td>\n",
       "      <td>1.0</td>\n",
       "      <td>0.0</td>\n",
       "      <td>0.0</td>\n",
       "      <td>0.0</td>\n",
       "    </tr>\n",
       "    <tr>\n",
       "      <th>8865</th>\n",
       "      <td>0.323036</td>\n",
       "      <td>1.274058</td>\n",
       "      <td>0.502974</td>\n",
       "      <td>-1.162469</td>\n",
       "      <td>0.646984</td>\n",
       "      <td>-0.408356</td>\n",
       "      <td>-0.110471</td>\n",
       "      <td>1.259807</td>\n",
       "      <td>-0.223977</td>\n",
       "      <td>-0.352876</td>\n",
       "      <td>...</td>\n",
       "      <td>0.0</td>\n",
       "      <td>0.0</td>\n",
       "      <td>0.0</td>\n",
       "      <td>0.0</td>\n",
       "      <td>1.0</td>\n",
       "      <td>0.0</td>\n",
       "      <td>1.0</td>\n",
       "      <td>0.0</td>\n",
       "      <td>0.0</td>\n",
       "      <td>0.0</td>\n",
       "    </tr>\n",
       "    <tr>\n",
       "      <th>7639</th>\n",
       "      <td>-0.051862</td>\n",
       "      <td>0.503516</td>\n",
       "      <td>0.502974</td>\n",
       "      <td>1.411757</td>\n",
       "      <td>0.646984</td>\n",
       "      <td>0.488539</td>\n",
       "      <td>-0.795681</td>\n",
       "      <td>-1.416670</td>\n",
       "      <td>-0.668267</td>\n",
       "      <td>-0.357415</td>\n",
       "      <td>...</td>\n",
       "      <td>0.0</td>\n",
       "      <td>1.0</td>\n",
       "      <td>0.0</td>\n",
       "      <td>0.0</td>\n",
       "      <td>0.0</td>\n",
       "      <td>0.0</td>\n",
       "      <td>1.0</td>\n",
       "      <td>0.0</td>\n",
       "      <td>0.0</td>\n",
       "      <td>0.0</td>\n",
       "    </tr>\n",
       "  </tbody>\n",
       "</table>\n",
       "<p>2532 rows × 34 columns</p>\n",
       "</div>"
      ],
      "text/plain": [
       "      Customer_Age  Dependent_count  Months_on_book  Total_Relationship_Count  \\\n",
       "3358     -0.301794         2.044600        0.377421                  0.768201   \n",
       "9951     -0.301794         0.503516       -0.250347                 -1.162469   \n",
       "3848     -1.176557         0.503516       -1.254775                 -0.518913   \n",
       "1666     -1.551455        -1.037569        0.000760                  1.411757   \n",
       "8383      0.572968         1.274058       -0.375900                 -1.162469   \n",
       "...            ...              ...             ...                       ...   \n",
       "1652     -1.301523        -1.037569        0.000760                 -0.518913   \n",
       "5252     -0.426760         0.503516        0.000760                 -0.518913   \n",
       "6955     -1.051591        -0.267027       -0.627007                  1.411757   \n",
       "8865      0.323036         1.274058        0.502974                 -1.162469   \n",
       "7639     -0.051862         0.503516        0.502974                  1.411757   \n",
       "\n",
       "      Months_Inactive_12_mon  Contacts_Count_12_mon  Credit_Limit  \\\n",
       "3358               -0.336769              -2.202146      0.809968   \n",
       "9951                0.646984               0.488539      1.908622   \n",
       "3848               -1.320522              -0.408356     -0.633011   \n",
       "1666               -0.336769               0.488539     -0.543024   \n",
       "8383                1.630737               0.488539     -0.616400   \n",
       "...                      ...                    ...           ...   \n",
       "1652                0.646984               1.385434     -0.667774   \n",
       "5252                0.646984              -0.408356      0.011638   \n",
       "6955                0.646984               0.488539     -0.599459   \n",
       "8865                0.646984              -0.408356     -0.110471   \n",
       "7639                0.646984               0.488539     -0.795681   \n",
       "\n",
       "      Total_Revolving_Bal  Avg_Open_To_Buy  Total_Amt_Chng_Q4_Q1  ...  Single  \\\n",
       "3358             0.534190         0.762049              0.069281  ...     0.0   \n",
       "9951            -1.416670         2.036697              1.272202  ...     1.0   \n",
       "3848             1.290347        -0.749395              0.228157  ...     1.0   \n",
       "1666             0.153058        -0.556944              1.244966  ...     0.0   \n",
       "8383             1.113218        -0.716825              0.427888  ...     1.0   \n",
       "...                   ...              ...                   ...  ...     ...   \n",
       "1652             0.802937        -0.740263             -0.439123  ...     1.0   \n",
       "5252             1.658042        -0.137710             -0.289326  ...     0.0   \n",
       "6955            -1.416670        -0.471997              0.119214  ...     0.0   \n",
       "8865             1.259807        -0.223977             -0.352876  ...     0.0   \n",
       "7639            -1.416670        -0.668267             -0.357415  ...     0.0   \n",
       "\n",
       "      $120K +  $40K - $60K  $60K - $80K  $80K - $120K  Less than $40K  Blue  \\\n",
       "3358      0.0          0.0          1.0           0.0             0.0   1.0   \n",
       "9951      0.0          0.0          0.0           0.0             0.0   1.0   \n",
       "3848      0.0          0.0          0.0           0.0             1.0   1.0   \n",
       "1666      0.0          1.0          0.0           0.0             0.0   1.0   \n",
       "8383      0.0          0.0          0.0           0.0             1.0   1.0   \n",
       "...       ...          ...          ...           ...             ...   ...   \n",
       "1652      0.0          0.0          1.0           0.0             0.0   1.0   \n",
       "5252      0.0          0.0          0.0           0.0             0.0   1.0   \n",
       "6955      0.0          0.0          0.0           0.0             1.0   1.0   \n",
       "8865      0.0          0.0          0.0           1.0             0.0   1.0   \n",
       "7639      1.0          0.0          0.0           0.0             0.0   1.0   \n",
       "\n",
       "      Gold  Platinum  Silver  \n",
       "3358   0.0       0.0     0.0  \n",
       "9951   0.0       0.0     0.0  \n",
       "3848   0.0       0.0     0.0  \n",
       "1666   0.0       0.0     0.0  \n",
       "8383   0.0       0.0     0.0  \n",
       "...    ...       ...     ...  \n",
       "1652   0.0       0.0     0.0  \n",
       "5252   0.0       0.0     0.0  \n",
       "6955   0.0       0.0     0.0  \n",
       "8865   0.0       0.0     0.0  \n",
       "7639   0.0       0.0     0.0  \n",
       "\n",
       "[2532 rows x 34 columns]"
      ]
     },
     "execution_count": 98,
     "metadata": {},
     "output_type": "execute_result"
    }
   ],
   "source": [
    "# Handling categorical data\n",
    "X_test_categorical = X_test[categorical_features].copy()\n",
    "X_test_ohe = pd.DataFrame(\n",
    "    ohe.transform(X_test_categorical),\n",
    "    index=X_test_categorical.index,\n",
    "    columns=np.hstack(ohe.categories_)\n",
    ")\n",
    "\n",
    "X_test_ohe.drop([\"Unknown\"], axis=1, inplace=True) # Drops all of the Unknown categories as these will serve as our base case for that individual encoded category\n",
    "\n",
    "# Normalization\n",
    "X_test_numeric = X_test[numeric_features].copy()\n",
    "X_test_scaled = pd.DataFrame(\n",
    "    scaler.transform(X_test_numeric),\n",
    "    index=X_test_numeric.index,\n",
    "    columns=X_test_numeric.columns\n",
    ")\n",
    "\n",
    "# Concatenating categorical and numeric data\n",
    "X_test_full = pd.concat([X_test_scaled, X_test_ohe], axis=1)\n",
    "X_test_full"
   ]
  },
  {
   "cell_type": "markdown",
   "metadata": {},
   "source": [
    "Now that our data has been encoded and standardized we can move into dimensionality reduction."
   ]
  },
  {
   "cell_type": "markdown",
   "metadata": {},
   "source": [
    "### Dimensionality Reduction"
   ]
  },
  {
   "cell_type": "markdown",
   "metadata": {},
   "source": [
    "Dimensionality reduction is the process of calculating the percentage of variance that each feature explains with respect to the target. This is done becuase, typically, we can explain ~70% of the variance with only a few features. You may ask yourself why would we ever reduce the amount of information we pass to the model. Well, with a dataset as small as ours (about 9000 entries) overfitting becomes a huge issue. Dimensionality reduction is one of the best ways to reduce overfitting as it calculates how many features you need to reach a certain percentage of explained variation, meaning it calculates the bare minimum number of features you have to pass to the model for it to make an informed decission without giving it too much information which leads to overfitting. And for our purposes, we will make that threshhold about 70% as this is an industry standard."
   ]
  },
  {
   "cell_type": "code",
   "execution_count": 99,
   "metadata": {},
   "outputs": [
    {
     "data": {
      "image/png": "[encoded data removed]",
      "text/plain": [
       "<Figure size 432x288 with 1 Axes>"
      ]
     },
     "metadata": {
      "needs_background": "light"
     },
     "output_type": "display_data"
    }
   ],
   "source": [
    "from sklearn.decomposition import PCA\n",
    "\n",
    "# Initializes the list that will contain the variances\n",
    "variances = []\n",
    "# Calculates the amount of target variance explained by each feature\n",
    "for i in range(1, len(X_train_full.columns) + 1):\n",
    "    pca = PCA(n_components=i)\n",
    "    pca.fit(X_train_full)\n",
    "    # Makes it so that they are cummulative variances in order to visualize the graph\n",
    "    variances.append(sum(pca.explained_variance_ratio_))\n",
    "# Displays the increase in explained variance as we add features\n",
    "plt.scatter(range(1, len(X_train_full.columns) + 1), variances)\n",
    "# Shows the x value that we reach 70% at\n",
    "plt.axvline(x=8, color='r');"
   ]
  },
  {
   "cell_type": "markdown",
   "metadata": {},
   "source": [
    "From the above plot, we can see that we reach the 70% explained variance threshold when we hit about 8 features. Therefore, we will take the 8 features that have the highest explained variation between itself and the target and use those to train/test the model."
   ]
  },
  {
   "cell_type": "code",
   "execution_count": 100,
   "metadata": {},
   "outputs": [],
   "source": [
    "# Instantiating the pca object\n",
    "pca = PCA(n_components=8)\n",
    "\n",
    "# fit transform the pca on the data\n",
    "X_train_pca = pca.fit_transform(X_train_full)\n",
    "X_test_pca = pca.transform(X_test_full)"
   ]
  },
  {
   "cell_type": "code",
   "execution_count": 101,
   "metadata": {},
   "outputs": [
    {
     "data": {
      "text/plain": [
       "0.7386092466913609"
      ]
     },
     "execution_count": 101,
     "metadata": {},
     "output_type": "execute_result"
    }
   ],
   "source": [
    "# Shows we have 73% explained variance from 8 features.\n",
    "sum(pca.explained_variance_ratio_)"
   ]
  },
  {
   "cell_type": "markdown",
   "metadata": {},
   "source": [
    "Once we get to the training and testing of the models, we will use the pre-PCA and post-PCA data so that we can compare the results."
   ]
  },
  {
   "cell_type": "markdown",
   "metadata": {},
   "source": [
    "### SMOTE"
   ]
  },
  {
   "cell_type": "markdown",
   "metadata": {},
   "source": [
    "SMOTE stands for Synthetic Minority Oversampling Technique. What this does is that it analyzes and trains a model on the minority class represented within the data and creates synthetic instances of this minority class in order to increase the number of the minority class instances."
   ]
  },
  {
   "cell_type": "code",
   "execution_count": 102,
   "metadata": {},
   "outputs": [],
   "source": [
    "# We run this code due to the imbalance of the classes within our data\n",
    "oversample = SMOTE(random_state=42) # Instantiating SMOTE object for oversampling with random state 42\n",
    "X_train_final, y_train_final = oversample.fit_resample(X_train_pca, y_train) # Resample the data in order to make the class counts balanced"
   ]
  },
  {
   "cell_type": "code",
   "execution_count": 103,
   "metadata": {},
   "outputs": [],
   "source": [
    "# This does SMOTE on the non-PCA data\n",
    "X_train_ex, y_train_ex = oversample.fit_resample(X_train_full, y_train)"
   ]
  },
  {
   "cell_type": "code",
   "execution_count": 104,
   "metadata": {},
   "outputs": [
    {
     "name": "stdout",
     "output_type": "stream",
     "text": [
      "1    6352\n",
      "0    6352\n",
      "Name: Attrition_Flag, dtype: int64\n"
     ]
    },
    {
     "data": {
      "text/plain": [
       "1    6352\n",
       "0    6352\n",
       "Name: Attrition_Flag, dtype: int64"
      ]
     },
     "execution_count": 104,
     "metadata": {},
     "output_type": "execute_result"
    }
   ],
   "source": [
    "print(y_train_final.value_counts())\n",
    "y_train_ex.value_counts()"
   ]
  },
  {
   "cell_type": "markdown",
   "metadata": {},
   "source": [
    "As we can see, we now have completely balanced data sets in terms of the target values for both the non PCA transformed data and the PCA transformed data."
   ]
  },
  {
   "cell_type": "markdown",
   "metadata": {},
   "source": [
    "## Models without PCA"
   ]
  },
  {
   "cell_type": "markdown",
   "metadata": {},
   "source": [
    "For this section, all models will be trained and tested on the data that did not get transformed by PCA. We will compare the results of the models using accuracy and precision. We use precision because the prediction of False positives is very detrimental to this (customer that is predicted to stay but actually leaves)."
   ]
  },
  {
   "cell_type": "markdown",
   "metadata": {},
   "source": [
    "The target value 1 means that a customer stays, 0 means they leave.\n",
    "A false positive is a case where y_pred = 1 but y_act = 0: meaning we predict them to stay, but they churn out in reality.\n",
    "So, false positive is our crucial metric.\n",
    "Thus, precision is our crecual statistic because precision increases as the false positive rate decrease."
   ]
  },
  {
   "cell_type": "markdown",
   "metadata": {},
   "source": [
    "### Logistic Regression"
   ]
  },
  {
   "cell_type": "markdown",
   "metadata": {},
   "source": [
    "This model serves as or baseline model, we did not expect great results from this modeling technique, however, we conducted it in order to have the most simplistic model to compare all of our more complex models to."
   ]
  },
  {
   "cell_type": "code",
   "execution_count": 105,
   "metadata": {},
   "outputs": [
    {
     "data": {
      "text/plain": [
       "LogisticRegression(C=1000000000000.0, fit_intercept=False, solver='liblinear')"
      ]
     },
     "execution_count": 105,
     "metadata": {},
     "output_type": "execute_result"
    }
   ],
   "source": [
    "# Import the LogisticRegression model from the sklearn.linear_model\n",
    "from sklearn.linear_model import LogisticRegression\n",
    "# Instantiate the LogisticRegression model with specific parameters:\n",
    "# fit_intercept=False to indicate that no intercept should be used in the calculations\n",
    "# C=1e12 to set the inverse of regularization strength to a very large number, effectively disabling regularization\n",
    "# solver='liblinear' to specify the algorithm used for optimization (good for small datasets)\n",
    "logreg = LogisticRegression(fit_intercept=False, C=1e12, solver='liblinear')\n",
    "model_log = logreg.fit(X_train_ex, y_train_ex)\n",
    "# Display the fitted model\n",
    "model_log"
   ]
  },
  {
   "cell_type": "code",
   "execution_count": 106,
   "metadata": {},
   "outputs": [
    {
     "name": "stdout",
     "output_type": "stream",
     "text": [
      "Accuracy is :0.8432069510268563\n",
      "Precision is :0.9679315873864244\n",
      "\n",
      "AUC is :0.84\n",
      "\n",
      "Confusion Matrix\n",
      "----------------\n"
     ]
    },
    {
     "data": {
      "text/plain": [
       "array([[ 324,   60],\n",
       "       [ 337, 1811]], dtype=int64)"
      ]
     },
     "execution_count": 106,
     "metadata": {},
     "output_type": "execute_result"
    }
   ],
   "source": [
    "from sklearn.metrics import accuracy_score, roc_curve, auc, precision_score\n",
    "\n",
    "y_hat_test = logreg.predict(X_test_full)\n",
    "\n",
    "# Calculate accuracy \n",
    "acc = accuracy_score(y_test, y_hat_test)\n",
    "print('Accuracy is :{0}'.format(acc))\n",
    "\n",
    "# Calculate Precision\n",
    "prec = precision_score(y_test, y_hat_test)\n",
    "print('Precision is :{0}'.format(prec))\n",
    "\n",
    "# Check the AUC for predictions\n",
    "false_positive_rate, true_positive_rate, thresholds = roc_curve(y_test, y_hat_test)\n",
    "roc_auc = auc(false_positive_rate, true_positive_rate)\n",
    "print('\\nAUC is :{0}'.format(round(roc_auc, 2)))\n",
    "\n",
    "# Create and print a confusion matrix \n",
    "print('\\nConfusion Matrix')\n",
    "from sklearn.metrics import confusion_matrix\n",
    "print('----------------')\n",
    "confusion_matrix(y_test, y_hat_test)"
   ]
  },
  {
   "cell_type": "markdown",
   "metadata": {},
   "source": [
    "As we can see the model performed very well with an accuracy and precision of 84% and 97% respectively. Since this is such a simple model that performed so well with these metrics, we can conclude that there is overfitting happeneing here."
   ]
  },
  {
   "cell_type": "markdown",
   "metadata": {},
   "source": [
    "### Decision Trees"
   ]
  },
  {
   "cell_type": "markdown",
   "metadata": {},
   "source": [
    "Decision Trees are some of the most explainable models in the realm of machine learning as it makes concrete decisions about what the data point can be based on if its various features fall above or below a certain threshold."
   ]
  },
  {
   "cell_type": "code",
   "execution_count": 107,
   "metadata": {},
   "outputs": [
    {
     "data": {
      "text/plain": [
       "DecisionTreeClassifier(random_state=42)"
      ]
     },
     "execution_count": 107,
     "metadata": {},
     "output_type": "execute_result"
    }
   ],
   "source": [
    "from sklearn.tree import DecisionTreeClassifier # Import the Decision Tree\n",
    "\n",
    "# Instantiate the classifier object with a random state of 42\n",
    "model = DecisionTreeClassifier(random_state=42)\n",
    "# Fit the classifier\n",
    "model.fit(X_train_ex, y_train_ex)"
   ]
  },
  {
   "cell_type": "code",
   "execution_count": 108,
   "metadata": {},
   "outputs": [
    {
     "name": "stdout",
     "output_type": "stream",
     "text": [
      "Accuracy is :0.9324644549763034\n",
      "Precision is :0.968705547652916\n",
      "\n",
      "AUC is :0.89\n",
      "\n",
      "Confusion Matrix\n",
      "----------------\n"
     ]
    },
    {
     "data": {
      "text/plain": [
       "array([[ 318,   66],\n",
       "       [ 105, 2043]], dtype=int64)"
      ]
     },
     "execution_count": 108,
     "metadata": {},
     "output_type": "execute_result"
    }
   ],
   "source": [
    "from sklearn.metrics import accuracy_score, roc_curve, auc, precision_score\n",
    "\n",
    "y_pred = model.predict(X_test_full)\n",
    "\n",
    "# Calculate accuracy \n",
    "acc = accuracy_score(y_test, y_pred)\n",
    "print('Accuracy is :{0}'.format(acc))\n",
    "\n",
    "# Calculate Precision\n",
    "prec = precision_score(y_test, y_pred)\n",
    "print('Precision is :{0}'.format(prec))\n",
    "\n",
    "# Check the AUC for predictions\n",
    "false_positive_rate, true_positive_rate, thresholds = roc_curve(y_test, y_pred)\n",
    "roc_auc = auc(false_positive_rate, true_positive_rate)\n",
    "print('\\nAUC is :{0}'.format(round(roc_auc, 2)))\n",
    "\n",
    "# Create and print a confusion matrix \n",
    "print('\\nConfusion Matrix')\n",
    "from sklearn.metrics import confusion_matrix\n",
    "print('----------------')\n",
    "confusion_matrix(y_test, y_pred)"
   ]
  },
  {
   "cell_type": "markdown",
   "metadata": {},
   "source": [
    "As we can see from the accuracy being 93% and the precision being 96%, the model performed better than the baseline, however, these high of numbers still suggest overfitting is ocurring with this non-PCA data. Finally, a visualization of the decision tree is shown below, however, it is very large and difficult to interpret as there are about 20 different features in this dataset"
   ]
  },
  {
   "cell_type": "code",
   "execution_count": 109,
   "metadata": {},
   "outputs": [
    {
     "data": {
      "image/png": "[encoded data removed]",
      "text/plain": [
       "<Figure size 1800x1440 with 1 Axes>"
      ]
     },
     "metadata": {
      "needs_background": "light"
     },
     "output_type": "display_data"
    }
   ],
   "source": [
    "from sklearn import tree\n",
    "fig = plt.figure(figsize=(25,20))\n",
    "\n",
    "_ = tree.plot_tree(model, feature_names=X_train_ex.columns, class_names=[\"0\",\"1\"], filled=True)"
   ]
  },
  {
   "cell_type": "markdown",
   "metadata": {},
   "source": [
    "### Random forest"
   ]
  },
  {
   "cell_type": "markdown",
   "metadata": {},
   "source": [
    "Since we experienced such success with Decision Trees, we wanted to try random forest as well since this is just a combination of multiple decision trees."
   ]
  },
  {
   "cell_type": "code",
   "execution_count": 110,
   "metadata": {},
   "outputs": [
    {
     "data": {
      "text/plain": [
       "RandomForestClassifier(max_depth=3, random_state=42)"
      ]
     },
     "execution_count": 110,
     "metadata": {},
     "output_type": "execute_result"
    }
   ],
   "source": [
    "from sklearn.ensemble import RandomForestClassifier\n",
    "\n",
    "# Instantiate the classifier object with a random state of 42\n",
    "model = RandomForestClassifier(max_depth=3, random_state=42)\n",
    "# Fit the classifier\n",
    "model.fit(X_train_ex, y_train_ex)"
   ]
  },
  {
   "cell_type": "code",
   "execution_count": 111,
   "metadata": {},
   "outputs": [
    {
     "name": "stdout",
     "output_type": "stream",
     "text": [
      "Accuracy is :0.8669036334913112\n",
      "Precision is :0.9612837493632196\n",
      "\n",
      "AUC is :0.84\n",
      "\n",
      "Confusion Matrix\n",
      "----------------\n"
     ]
    },
    {
     "data": {
      "text/plain": [
       "array([[ 308,   76],\n",
       "       [ 261, 1887]], dtype=int64)"
      ]
     },
     "execution_count": 111,
     "metadata": {},
     "output_type": "execute_result"
    }
   ],
   "source": [
    "from sklearn.metrics import accuracy_score, roc_curve, auc, precision_score\n",
    "\n",
    "y_pred = model.predict(X_test_full)\n",
    "\n",
    "# Calculate accuracy \n",
    "acc = accuracy_score(y_test, y_pred)\n",
    "print('Accuracy is :{0}'.format(acc))\n",
    "\n",
    "# Calculate Precision\n",
    "prec = precision_score(y_test, y_pred)\n",
    "print('Precision is :{0}'.format(prec))\n",
    "\n",
    "# Check the AUC for predictions\n",
    "false_positive_rate, true_positive_rate, thresholds = roc_curve(y_test, y_pred)\n",
    "roc_auc = auc(false_positive_rate, true_positive_rate)\n",
    "print('\\nAUC is :{0}'.format(round(roc_auc, 2)))\n",
    "\n",
    "# Create and print a confusion matrix \n",
    "print('\\nConfusion Matrix')\n",
    "from sklearn.metrics import confusion_matrix\n",
    "print('----------------')\n",
    "confusion_matrix(y_test, y_pred)"
   ]
  },
  {
   "cell_type": "markdown",
   "metadata": {},
   "source": [
    "The performance saw a drop off here and is very similar to the performance of the baseline model, so we will probably not consider Random Forest as one of the best performing models as it is most likely overfitting as well."
   ]
  },
  {
   "cell_type": "markdown",
   "metadata": {},
   "source": [
    "### KNN"
   ]
  },
  {
   "cell_type": "markdown",
   "metadata": {},
   "source": [
    "K nearest neighbors is another supervised learning model that we wanted to try out as it performs its decision making process much differently than decision trees and random forests. It looks at the 5 nearest data points around the current one and classifies the current data point with whatever the majority class is between those 5 nearest neighbors."
   ]
  },
  {
   "cell_type": "code",
   "execution_count": 112,
   "metadata": {},
   "outputs": [
    {
     "data": {
      "text/plain": [
       "KNeighborsClassifier()"
      ]
     },
     "execution_count": 112,
     "metadata": {},
     "output_type": "execute_result"
    }
   ],
   "source": [
    "from sklearn.neighbors import KNeighborsClassifier\n",
    "\n",
    "# Instantiate the classifier object with n-neighbors as 5\n",
    "model = KNeighborsClassifier(n_neighbors=5)\n",
    "# Fit the classifier\n",
    "model.fit(X_train_ex, y_train_ex)"
   ]
  },
  {
   "cell_type": "code",
   "execution_count": 113,
   "metadata": {},
   "outputs": [
    {
     "name": "stdout",
     "output_type": "stream",
     "text": [
      "Accuracy is :0.8562401263823065\n",
      "Precision is :0.9679958027282266\n",
      "\n",
      "AUC is :0.85\n",
      "\n",
      "Confusion Matrix\n",
      "----------------\n"
     ]
    },
    {
     "data": {
      "text/plain": [
       "array([[ 323,   61],\n",
       "       [ 303, 1845]], dtype=int64)"
      ]
     },
     "execution_count": 113,
     "metadata": {},
     "output_type": "execute_result"
    }
   ],
   "source": [
    "from sklearn.metrics import accuracy_score, roc_curve, auc, precision_score\n",
    "\n",
    "y_pred = model.predict(X_test_full)\n",
    "\n",
    "# Calculate accuracy \n",
    "acc = accuracy_score(y_test, y_pred)\n",
    "print('Accuracy is :{0}'.format(acc))\n",
    "\n",
    "# Calculate Precision\n",
    "prec = precision_score(y_test, y_pred)\n",
    "print('Precision is :{0}'.format(prec))\n",
    "\n",
    "# Check the AUC for predictions\n",
    "false_positive_rate, true_positive_rate, thresholds = roc_curve(y_test, y_pred)\n",
    "roc_auc = auc(false_positive_rate, true_positive_rate)\n",
    "print('\\nAUC is :{0}'.format(round(roc_auc, 2)))\n",
    "\n",
    "# Create and print a confusion matrix \n",
    "print('\\nConfusion Matrix')\n",
    "from sklearn.metrics import confusion_matrix\n",
    "print('----------------')\n",
    "confusion_matrix(y_test, y_pred)"
   ]
  },
  {
   "cell_type": "markdown",
   "metadata": {},
   "source": [
    "The performance saw a drop off here and is very similar to the performance of the baseline model, so we will probably not consider KNN as one of the best performing models as it is most likely overfitting as well."
   ]
  },
  {
   "cell_type": "markdown",
   "metadata": {},
   "source": [
    "### KMeans"
   ]
  },
  {
   "cell_type": "markdown",
   "metadata": {},
   "source": [
    "K means is the only unsupervised learning method we used as we wanted to test one out in case it turned out to perform very well. We did not expect it to due to the fact that this problem is better solved with a supervised model as there are not many trends within the data."
   ]
  },
  {
   "cell_type": "code",
   "execution_count": 114,
   "metadata": {},
   "outputs": [
    {
     "data": {
      "text/plain": [
       "KMeans(n_clusters=2, random_state=42)"
      ]
     },
     "execution_count": 114,
     "metadata": {},
     "output_type": "execute_result"
    }
   ],
   "source": [
    "from sklearn.cluster import KMeans\n",
    "\n",
    "model = KMeans(n_clusters=2, random_state=42)\n",
    "\n",
    "# Fit the classifier\n",
    "model.fit(X_train_ex, y_train_ex)"
   ]
  },
  {
   "cell_type": "code",
   "execution_count": 115,
   "metadata": {},
   "outputs": [
    {
     "name": "stdout",
     "output_type": "stream",
     "text": [
      "Accuracy is :0.6974723538704581\n",
      "Precision is :0.843098311817279\n",
      "\n",
      "AUC is :0.48\n",
      "\n",
      "Confusion Matrix\n",
      "----------------\n"
     ]
    },
    {
     "data": {
      "text/plain": [
       "array([[  68,  316],\n",
       "       [ 450, 1698]], dtype=int64)"
      ]
     },
     "execution_count": 115,
     "metadata": {},
     "output_type": "execute_result"
    }
   ],
   "source": [
    "from sklearn.metrics import accuracy_score, roc_curve, auc, precision_score\n",
    "\n",
    "y_pred = model.predict(X_test_full)\n",
    "\n",
    "# Calculate accuracy \n",
    "acc = accuracy_score(y_test, y_pred)\n",
    "print('Accuracy is :{0}'.format(acc))\n",
    "\n",
    "# Calculate Precision\n",
    "prec = precision_score(y_test, y_pred)\n",
    "print('Precision is :{0}'.format(prec))\n",
    "\n",
    "# Check the AUC for predictions\n",
    "false_positive_rate, true_positive_rate, thresholds = roc_curve(y_test, y_pred)\n",
    "roc_auc = auc(false_positive_rate, true_positive_rate)\n",
    "print('\\nAUC is :{0}'.format(round(roc_auc, 2)))\n",
    "\n",
    "# Create and print a confusion matrix \n",
    "print('\\nConfusion Matrix')\n",
    "from sklearn.metrics import confusion_matrix\n",
    "print('----------------')\n",
    "confusion_matrix(y_test, y_pred)"
   ]
  },
  {
   "cell_type": "markdown",
   "metadata": {},
   "source": [
    "As our hypothesis suggested, this was our worst performing model and will not be the one we choose to proceed with."
   ]
  },
  {
   "cell_type": "markdown",
   "metadata": {},
   "source": [
    "In conclusion, we see our models experiencing heavy overfitting, so we will need to train and test the models using the PCA transformed data to see if we can reduce the overfitting. Furthermore, Decision Trees seemed to be out best performing model, so in the next step we will make sure to keep an eye on that model."
   ]
  },
  {
   "cell_type": "markdown",
   "metadata": {},
   "source": [
    "## Models with PCA"
   ]
  },
  {
   "cell_type": "markdown",
   "metadata": {},
   "source": [
    "For this section, all models will be trained and tested on the data that did get transformed by PCA. We will compare the results of the models using accuracy and precision. We use precision because the prediction of False positives is very detrimental to this (customer that is predicted to stay but actually leaves)."
   ]
  },
  {
   "cell_type": "markdown",
   "metadata": {},
   "source": [
    "### Logistic Regression"
   ]
  },
  {
   "cell_type": "markdown",
   "metadata": {},
   "source": [
    "This model serves as or baseline model, we did not expect great results from this modeling technique, however, we conducted it in order to have the most simplistic model to compare all of our more complex models to."
   ]
  },
  {
   "cell_type": "code",
   "execution_count": 116,
   "metadata": {},
   "outputs": [
    {
     "data": {
      "text/plain": [
       "LogisticRegression(C=1000000000000.0, fit_intercept=False, solver='liblinear')"
      ]
     },
     "execution_count": 116,
     "metadata": {},
     "output_type": "execute_result"
    }
   ],
   "source": [
    "# Import the LogisticRegression model from the sklearn.linear_model\n",
    "from sklearn.linear_model import LogisticRegression\n",
    "# Instantiate the LogisticRegression model with specific parameters:\n",
    "# fit_intercept=False to indicate that no intercept should be used in the calculations\n",
    "# C=1e12 to set the inverse of regularization strength to a very large number, effectively disabling regularization\n",
    "# solver='liblinear' to specify the algorithm used for optimization (good for small datasets)\n",
    "logreg = LogisticRegression(fit_intercept=False, C=1e12, solver='liblinear')\n",
    "model_log = logreg.fit(X_train_final, y_train_final)\n",
    "# Display the fitted model\n",
    "model_log"
   ]
  },
  {
   "cell_type": "code",
   "execution_count": 117,
   "metadata": {},
   "outputs": [],
   "source": [
    "# Use the trained Logistic Regression model to make predictions on the training data\n",
    "y_hat_train = model_log.predict(X_train_final)"
   ]
  },
  {
   "cell_type": "code",
   "execution_count": 118,
   "metadata": {},
   "outputs": [
    {
     "name": "stdout",
     "output_type": "stream",
     "text": [
      "Accuracy is :0.6374407582938388\n",
      "Precision is :0.9617117117117117\n",
      "\n",
      "AUC is :0.73\n",
      "\n",
      "Confusion Matrix\n",
      "----------------\n"
     ]
    },
    {
     "data": {
      "text/plain": [
       "array([[ 333,   51],\n",
       "       [ 867, 1281]], dtype=int64)"
      ]
     },
     "execution_count": 118,
     "metadata": {},
     "output_type": "execute_result"
    }
   ],
   "source": [
    "from sklearn.metrics import accuracy_score, roc_curve, auc, precision_score\n",
    "\n",
    "# Use the trained Logistic Regression model to make predictions on the test data\n",
    "y_hat_test = model_log.predict(X_test_pca)\n",
    "\n",
    "# Calculate accuracy \n",
    "acc = accuracy_score(y_test, y_hat_test)\n",
    "print('Accuracy is :{0}'.format(acc))\n",
    "\n",
    "# Calculate Precision\n",
    "prec = precision_score(y_test, y_hat_test)\n",
    "print('Precision is :{0}'.format(prec))\n",
    "\n",
    "# Check the AUC for predictions\n",
    "false_positive_rate, true_positive_rate, thresholds = roc_curve(y_test, y_hat_test)\n",
    "roc_auc = auc(false_positive_rate, true_positive_rate)\n",
    "print('\\nAUC is :{0}'.format(round(roc_auc, 2)))\n",
    "\n",
    "# Create and print a confusion matrix \n",
    "print('\\nConfusion Matrix')\n",
    "from sklearn.metrics import confusion_matrix\n",
    "print('----------------')\n",
    "confusion_matrix(y_test, y_hat_test)"
   ]
  },
  {
   "cell_type": "markdown",
   "metadata": {},
   "source": [
    "As we can see here, our overall accuracy dropped significantly for this model, showing us that the PCA transformations did in fact reduce overfitting due to the fact that accuracy is now at 64%"
   ]
  },
  {
   "cell_type": "markdown",
   "metadata": {},
   "source": [
    "### Decision Trees"
   ]
  },
  {
   "cell_type": "markdown",
   "metadata": {},
   "source": [
    "Decision Trees are some of the most explainable models in the realm of machine learning as it makes concrete decisions about what the data point can be based on if its various features fall above or below a certain threshold."
   ]
  },
  {
   "cell_type": "code",
   "execution_count": 119,
   "metadata": {},
   "outputs": [
    {
     "data": {
      "text/plain": [
       "DecisionTreeClassifier(random_state=42)"
      ]
     },
     "execution_count": 119,
     "metadata": {},
     "output_type": "execute_result"
    }
   ],
   "source": [
    "from sklearn.tree import DecisionTreeClassifier # Import the Decision Tree\n",
    "\n",
    "# Instantiate the classifier object with a random state of 42\n",
    "model = DecisionTreeClassifier(random_state=42)\n",
    "# Fit the classifier\n",
    "model.fit(X_train_final, y_train_final)"
   ]
  },
  {
   "cell_type": "code",
   "execution_count": 120,
   "metadata": {},
   "outputs": [
    {
     "name": "stdout",
     "output_type": "stream",
     "text": [
      "Accuracy is :0.8258293838862559\n",
      "Precision is :0.9235732009925558\n",
      "\n",
      "AUC is :0.73\n",
      "\n",
      "Confusion Matrix\n",
      "----------------\n"
     ]
    },
    {
     "data": {
      "text/plain": [
       "array([[ 230,  154],\n",
       "       [ 287, 1861]], dtype=int64)"
      ]
     },
     "execution_count": 120,
     "metadata": {},
     "output_type": "execute_result"
    }
   ],
   "source": [
    "from sklearn.metrics import accuracy_score, roc_curve, auc, precision_score\n",
    "\n",
    "y_pred = model.predict(X_test_pca)\n",
    "\n",
    "# Calculate accuracy \n",
    "acc = accuracy_score(y_test, y_pred)\n",
    "print('Accuracy is :{0}'.format(acc))\n",
    "\n",
    "# Calculate Precision\n",
    "prec = precision_score(y_test, y_pred)\n",
    "print('Precision is :{0}'.format(prec))\n",
    "\n",
    "# Check the AUC for predictions\n",
    "false_positive_rate, true_positive_rate, thresholds = roc_curve(y_test, y_pred)\n",
    "roc_auc = auc(false_positive_rate, true_positive_rate)\n",
    "print('\\nAUC is :{0}'.format(round(roc_auc, 2)))\n",
    "\n",
    "# Create and print a confusion matrix \n",
    "print('\\nConfusion Matrix')\n",
    "from sklearn.metrics import confusion_matrix\n",
    "print('----------------')\n",
    "confusion_matrix(y_test, y_pred)"
   ]
  },
  {
   "cell_type": "markdown",
   "metadata": {},
   "source": [
    "This model has a high accuracy and precision when compared to the baseline, and both are low enough to indicate that overfitting is most likely not ocurring. Thus, with these results, we can safely put Decision Trees as the front runner for our model selection process as of now."
   ]
  },
  {
   "cell_type": "markdown",
   "metadata": {},
   "source": [
    "### Random Forest"
   ]
  },
  {
   "cell_type": "markdown",
   "metadata": {},
   "source": [
    "Since we experienced such success with Decision Trees, we wanted to try random forest as well since this is just a combination of multiple decision trees."
   ]
  },
  {
   "cell_type": "code",
   "execution_count": 121,
   "metadata": {},
   "outputs": [
    {
     "data": {
      "text/plain": [
       "RandomForestClassifier(max_depth=3, random_state=42)"
      ]
     },
     "execution_count": 121,
     "metadata": {},
     "output_type": "execute_result"
    }
   ],
   "source": [
    "from sklearn.ensemble import RandomForestClassifier\n",
    "\n",
    "# Instantiate the classifier object with a random state of 42\n",
    "model = RandomForestClassifier(max_depth=3, random_state=42)\n",
    "# Fit the classifier\n",
    "model.fit(X_train_final, y_train_final)"
   ]
  },
  {
   "cell_type": "code",
   "execution_count": 122,
   "metadata": {},
   "outputs": [
    {
     "name": "stdout",
     "output_type": "stream",
     "text": [
      "Accuracy is :0.8218799368088467\n",
      "Precision is :0.9349051768323936\n",
      "\n",
      "AUC is :0.76\n",
      "\n",
      "Confusion Matrix\n",
      "----------------\n"
     ]
    },
    {
     "data": {
      "text/plain": [
       "array([[ 257,  127],\n",
       "       [ 324, 1824]], dtype=int64)"
      ]
     },
     "execution_count": 122,
     "metadata": {},
     "output_type": "execute_result"
    }
   ],
   "source": [
    "from sklearn.metrics import accuracy_score, roc_curve, auc, precision_score\n",
    "\n",
    "y_pred = model.predict(X_test_pca)\n",
    "\n",
    "# Calculate accuracy \n",
    "acc = accuracy_score(y_test, y_pred)\n",
    "print('Accuracy is :{0}'.format(acc))\n",
    "\n",
    "# Calculate Precision\n",
    "prec = precision_score(y_test, y_pred)\n",
    "print('Precision is :{0}'.format(prec))\n",
    "\n",
    "# Check the AUC for predictions\n",
    "false_positive_rate, true_positive_rate, thresholds = roc_curve(y_test, y_pred)\n",
    "roc_auc = auc(false_positive_rate, true_positive_rate)\n",
    "print('\\nAUC is :{0}'.format(round(roc_auc, 2)))\n",
    "\n",
    "# Create and print a confusion matrix \n",
    "print('\\nConfusion Matrix')\n",
    "from sklearn.metrics import confusion_matrix\n",
    "print('----------------')\n",
    "confusion_matrix(y_test, y_pred)"
   ]
  },
  {
   "cell_type": "markdown",
   "metadata": {},
   "source": [
    "These are very similar results to the decision tree, however, we are going to move forward with the Decision Tree and not the Random Forest since Decision Trees are much more explainable than Random Forests."
   ]
  },
  {
   "cell_type": "markdown",
   "metadata": {},
   "source": [
    "### KNN"
   ]
  },
  {
   "cell_type": "markdown",
   "metadata": {},
   "source": [
    "K nearest neighbors is another supervised learning model that we wanted to try out as it performs its decision making process much differently than decision trees and random forests. It looks at the 5 nearest data points around the current one and classifies the current data point with whatever the majority class is between those 5 nearest neighbors."
   ]
  },
  {
   "cell_type": "code",
   "execution_count": 123,
   "metadata": {},
   "outputs": [
    {
     "data": {
      "text/plain": [
       "KNeighborsClassifier()"
      ]
     },
     "execution_count": 123,
     "metadata": {},
     "output_type": "execute_result"
    }
   ],
   "source": [
    "from sklearn.neighbors import KNeighborsClassifier\n",
    "\n",
    "# Instantiate the classifier object with n-neighbors as 5\n",
    "model = KNeighborsClassifier(n_neighbors=5)\n",
    "# Fit the classifier\n",
    "model.fit(X_train_final, y_train_final)"
   ]
  },
  {
   "cell_type": "code",
   "execution_count": 124,
   "metadata": {},
   "outputs": [
    {
     "name": "stdout",
     "output_type": "stream",
     "text": [
      "Accuracy is :0.825434439178515\n",
      "Precision is :0.9546908315565032\n",
      "\n",
      "AUC is :0.81\n",
      "\n",
      "Confusion Matrix\n",
      "----------------\n"
     ]
    },
    {
     "data": {
      "text/plain": [
       "array([[ 299,   85],\n",
       "       [ 357, 1791]], dtype=int64)"
      ]
     },
     "execution_count": 124,
     "metadata": {},
     "output_type": "execute_result"
    }
   ],
   "source": [
    "from sklearn.metrics import accuracy_score, roc_curve, auc, precision_score\n",
    "\n",
    "y_pred = model.predict(X_test_pca)\n",
    "\n",
    "# Calculate accuracy \n",
    "acc = accuracy_score(y_test, y_pred)\n",
    "print('Accuracy is :{0}'.format(acc))\n",
    "\n",
    "# Calculate Precision\n",
    "prec = precision_score(y_test, y_pred)\n",
    "print('Precision is :{0}'.format(prec))\n",
    "\n",
    "# Check the AUC for predictions\n",
    "false_positive_rate, true_positive_rate, thresholds = roc_curve(y_test, y_pred)\n",
    "roc_auc = auc(false_positive_rate, true_positive_rate)\n",
    "print('\\nAUC is :{0}'.format(round(roc_auc, 2)))\n",
    "\n",
    "# Create and print a confusion matrix \n",
    "print('\\nConfusion Matrix')\n",
    "from sklearn.metrics import confusion_matrix\n",
    "print('----------------')\n",
    "confusion_matrix(y_test, y_pred)"
   ]
  },
  {
   "cell_type": "markdown",
   "metadata": {},
   "source": [
    "These are very similar results to the decision tree, however, we are going to move forward with the Decision Tree and not the KNN since Decision Trees are much more explainable than KNN."
   ]
  },
  {
   "cell_type": "markdown",
   "metadata": {},
   "source": [
    "### K Means"
   ]
  },
  {
   "cell_type": "markdown",
   "metadata": {},
   "source": [
    "K means is the only unsupervised learning method we used as we wanted to test one out in case it turned out to perform very well. We did not expect it to due to the fact that this problem is better solved with a supervised model as there are not many trends within the data."
   ]
  },
  {
   "cell_type": "code",
   "execution_count": 125,
   "metadata": {},
   "outputs": [
    {
     "data": {
      "text/plain": [
       "KMeans(n_clusters=2, random_state=42)"
      ]
     },
     "execution_count": 125,
     "metadata": {},
     "output_type": "execute_result"
    }
   ],
   "source": [
    "from sklearn.cluster import KMeans\n",
    "\n",
    "model = KMeans(n_clusters=2, random_state=42)\n",
    "\n",
    "# Fit the classifier\n",
    "model.fit(X_train_final, y_train_final)"
   ]
  },
  {
   "cell_type": "code",
   "execution_count": 126,
   "metadata": {},
   "outputs": [
    {
     "name": "stdout",
     "output_type": "stream",
     "text": [
      "Accuracy is :0.6927330173775671\n",
      "Precision is :0.843186372745491\n",
      "\n",
      "AUC is :0.48\n",
      "\n",
      "Confusion Matrix\n",
      "----------------\n"
     ]
    },
    {
     "data": {
      "text/plain": [
       "array([[  71,  313],\n",
       "       [ 465, 1683]], dtype=int64)"
      ]
     },
     "execution_count": 126,
     "metadata": {},
     "output_type": "execute_result"
    }
   ],
   "source": [
    "from sklearn.metrics import accuracy_score, roc_curve, auc, precision_score\n",
    "\n",
    "y_pred = model.predict(X_test_pca)\n",
    "\n",
    "# Calculate accuracy \n",
    "acc = accuracy_score(y_test, y_pred)\n",
    "print('Accuracy is :{0}'.format(acc))\n",
    "\n",
    "# Calculate Precision\n",
    "prec = precision_score(y_test, y_pred)\n",
    "print('Precision is :{0}'.format(prec))\n",
    "\n",
    "# Check the AUC for predictions\n",
    "false_positive_rate, true_positive_rate, thresholds = roc_curve(y_test, y_pred)\n",
    "roc_auc = auc(false_positive_rate, true_positive_rate)\n",
    "print('\\nAUC is :{0}'.format(round(roc_auc, 2)))\n",
    "\n",
    "# Create and print a confusion matrix \n",
    "print('\\nConfusion Matrix')\n",
    "from sklearn.metrics import confusion_matrix\n",
    "print('----------------')\n",
    "confusion_matrix(y_test, y_pred)"
   ]
  },
  {
   "cell_type": "markdown",
   "metadata": {},
   "source": [
    "As expected this only performed slightly better than our baseline, so we will not continue with this unsupervised learning method."
   ]
  },
  {
   "cell_type": "markdown",
   "metadata": {},
   "source": [
    "In conclusion, we are going to proceed with hyper parameter optimization for decision trees since this was the model that received the best results while also being the most explainable."
   ]
  },
  {
   "cell_type": "markdown",
   "metadata": {},
   "source": [
    "## Hyper Parameter Optimization using Visuals for Decision Tree"
   ]
  },
  {
   "cell_type": "markdown",
   "metadata": {},
   "source": [
    "Here we retrain and initialize the decision tree model we want to perform hyperparamter analysis on"
   ]
  },
  {
   "cell_type": "code",
   "execution_count": 127,
   "metadata": {},
   "outputs": [
    {
     "data": {
      "text/plain": [
       "DecisionTreeClassifier(random_state=42)"
      ]
     },
     "execution_count": 127,
     "metadata": {},
     "output_type": "execute_result"
    }
   ],
   "source": [
    "from sklearn.tree import DecisionTreeClassifier # Import the Decision Tree\n",
    "\n",
    "# Instantiate the classifier object with a random state of 42\n",
    "model = DecisionTreeClassifier(random_state=42)\n",
    "# Fit the classifier\n",
    "model.fit(X_train_final, y_train_final)"
   ]
  },
  {
   "cell_type": "code",
   "execution_count": 128,
   "metadata": {},
   "outputs": [
    {
     "name": "stdout",
     "output_type": "stream",
     "text": [
      "Accuracy is :0.8258293838862559\n",
      "Precision is :0.9235732009925558\n",
      "\n",
      "AUC is :0.73\n",
      "\n",
      "Confusion Matrix\n",
      "----------------\n"
     ]
    },
    {
     "data": {
      "text/plain": [
       "array([[ 230,  154],\n",
       "       [ 287, 1861]], dtype=int64)"
      ]
     },
     "execution_count": 128,
     "metadata": {},
     "output_type": "execute_result"
    }
   ],
   "source": [
    "from sklearn.metrics import accuracy_score, roc_curve, auc, precision_score\n",
    "\n",
    "y_pred = model.predict(X_test_pca)\n",
    "\n",
    "# Calculate accuracy \n",
    "acc = accuracy_score(y_test, y_pred)\n",
    "print('Accuracy is :{0}'.format(acc))\n",
    "\n",
    "# Calculate Precision\n",
    "prec = precision_score(y_test, y_pred)\n",
    "print('Precision is :{0}'.format(prec))\n",
    "\n",
    "# Check the AUC for predictions\n",
    "false_positive_rate, true_positive_rate, thresholds = roc_curve(y_test, y_pred)\n",
    "roc_auc = auc(false_positive_rate, true_positive_rate)\n",
    "print('\\nAUC is :{0}'.format(round(roc_auc, 2)))\n",
    "\n",
    "# Create and print a confusion matrix \n",
    "print('\\nConfusion Matrix')\n",
    "from sklearn.metrics import confusion_matrix\n",
    "print('----------------')\n",
    "confusion_matrix(y_test, y_pred)"
   ]
  },
  {
   "cell_type": "markdown",
   "metadata": {},
   "source": [
    "Above are the baseline results for a decision tree with default parameters."
   ]
  },
  {
   "cell_type": "code",
   "execution_count": 129,
   "metadata": {},
   "outputs": [
    {
     "data": {
      "image/png": "[encoded data removed]",
      "text/plain": [
       "<Figure size 432x288 with 1 Axes>"
      ]
     },
     "metadata": {
      "needs_background": "light"
     },
     "output_type": "display_data"
    }
   ],
   "source": [
    "# Create list of possible values for max_depth\n",
    "depth_list = np.linspace(1,32,32)\n",
    "total_roc_auc_train = []\n",
    "total_roc_auc_test = []\n",
    "# Fit, predict, and calculating AUC curve for each Decision Tree model with a different max_depth\n",
    "for depth in depth_list:\n",
    "    dt = DecisionTreeClassifier(criterion='entropy', max_depth=int(depth), random_state=42)\n",
    "    dt.fit(X_train_final, y_train_final)\n",
    "    y_train_pred = dt.predict(X_train_final)\n",
    "    y_test_pred = dt.predict(X_test_pca)\n",
    "    false_positive_rate_train, true_positive_rate_train, thresholds_train = roc_curve(y_train_final, y_train_pred)\n",
    "    false_positive_rate_test, true_positive_rate_test, thresholds_test = roc_curve(y_test, y_test_pred)\n",
    "    roc_auc_train = auc(false_positive_rate_train, true_positive_rate_train)\n",
    "    roc_auc_test = auc(false_positive_rate_test, true_positive_rate_test)\n",
    "    total_roc_auc_train.append(roc_auc_train)\n",
    "    total_roc_auc_test.append(roc_auc_test)\n",
    "# Plot all results\n",
    "plt.plot(depth_list, total_roc_auc_train)\n",
    "plt.plot(depth_list, total_roc_auc_test)\n",
    "plt.axvline(x=8, color='r');"
   ]
  },
  {
   "cell_type": "markdown",
   "metadata": {},
   "source": [
    "This tells us that the optimal max_depth for this model is at 8 due to the fact that this is when the test AUC curve stops increasing meaning that the model is not learning anymore past this point."
   ]
  },
  {
   "cell_type": "code",
   "execution_count": 130,
   "metadata": {},
   "outputs": [
    {
     "data": {
      "image/png": "[encoded data removed]",
      "text/plain": [
       "<Figure size 432x288 with 1 Axes>"
      ]
     },
     "metadata": {
      "needs_background": "light"
     },
     "output_type": "display_data"
    }
   ],
   "source": [
    "# Identify the optimal min-samples-split for given data\n",
    "split_list = [.1,.2,.3,.4,.5,.6,.7,.8,.9,1.0,2,3,4,5,6,7,8,9,10]\n",
    "total_roc_auc_train = []\n",
    "total_roc_auc_test = []\n",
    "# Fit, predict, and calculating AUC curve for each Decision Tree model with a different min_samples_split\n",
    "for sp in split_list:\n",
    "    dt = DecisionTreeClassifier(max_depth=8, min_samples_split=sp, random_state=42)\n",
    "    dt.fit(X_train_final, y_train_final)\n",
    "    y_train_pred = dt.predict(X_train_final)\n",
    "    y_test_pred = dt.predict(X_test_pca)\n",
    "    false_positive_rate_train, true_positive_rate_train, thresholds_train = roc_curve(y_train_final, y_train_pred)\n",
    "    false_positive_rate_test, true_positive_rate_test, thresholds_test = roc_curve(y_test, y_test_pred)\n",
    "    roc_auc_train = auc(false_positive_rate_train, true_positive_rate_train)\n",
    "    roc_auc_test = auc(false_positive_rate_test, true_positive_rate_test)\n",
    "    total_roc_auc_train.append(roc_auc_train)\n",
    "    total_roc_auc_test.append(roc_auc_test)\n",
    "# Plot results\n",
    "plt.plot(split_list, total_roc_auc_train)\n",
    "plt.plot(split_list, total_roc_auc_test)\n",
    "plt.axvline(x=2, color='r');"
   ]
  },
  {
   "cell_type": "markdown",
   "metadata": {},
   "source": [
    "This tells us that the optimal min_samples_split for this model is at 2 due to the fact that this is when the test AUC curve stops increasing meaning that the model is not learning anymore past this point."
   ]
  },
  {
   "cell_type": "code",
   "execution_count": 131,
   "metadata": {},
   "outputs": [
    {
     "data": {
      "image/png": "[encoded data removed]",
      "text/plain": [
       "<Figure size 432x288 with 1 Axes>"
      ]
     },
     "metadata": {
      "needs_background": "light"
     },
     "output_type": "display_data"
    }
   ],
   "source": [
    "# Calculate the optimal value for minimum sample leafs\n",
    "leaf_list = [.1,.2,.3,.4,.5,1,2]\n",
    "total_roc_auc_train = []\n",
    "total_roc_auc_test = []\n",
    "# Fit, predict, and calculating AUC curve for each Decision Tree model with a different min_samples_leaf\n",
    "for sp in leaf_list:\n",
    "    dt = DecisionTreeClassifier(max_depth=8, min_samples_split=2, min_samples_leaf=sp, random_state=42)\n",
    "    dt.fit(X_train_final, y_train_final)\n",
    "    y_train_pred = dt.predict(X_train_final)\n",
    "    y_test_pred = dt.predict(X_test_pca)\n",
    "    false_positive_rate_train, true_positive_rate_train, thresholds_train = roc_curve(y_train_final, y_train_pred)\n",
    "    false_positive_rate_test, true_positive_rate_test, thresholds_test = roc_curve(y_test, y_test_pred)\n",
    "    roc_auc_train = auc(false_positive_rate_train, true_positive_rate_train)\n",
    "    roc_auc_test = auc(false_positive_rate_test, true_positive_rate_test)\n",
    "    total_roc_auc_train.append(roc_auc_train)\n",
    "    total_roc_auc_test.append(roc_auc_test)\n",
    "# Plot results\n",
    "plt.plot(leaf_list, total_roc_auc_train)\n",
    "plt.plot(leaf_list, total_roc_auc_test)\n",
    "plt.axvline(x=1, color='r');"
   ]
  },
  {
   "cell_type": "markdown",
   "metadata": {},
   "source": [
    "This tells us that the optimal min_samples_leaf for this model is at 1 due to the fact that this is when the test AUC curve stops increasing meaning that the model is not learning anymore past this point."
   ]
  },
  {
   "cell_type": "markdown",
   "metadata": {},
   "source": [
    "Now that we have the optimal hyperparameter values for our Decision Tree model, we create the final model that will be used for LoyalLock with these parameters. Then we train/fit it and predict the test set to see results"
   ]
  },
  {
   "cell_type": "code",
   "execution_count": 132,
   "metadata": {},
   "outputs": [
    {
     "name": "stdout",
     "output_type": "stream",
     "text": [
      "Accuracy is :0.8238546603475514\n",
      "Precision is :0.9391124871001032\n",
      "\n",
      "AUC is :0.77\n",
      "\n",
      "Confusion Matrix\n",
      "----------------\n"
     ]
    },
    {
     "data": {
      "text/plain": [
       "array([[ 266,  118],\n",
       "       [ 328, 1820]], dtype=int64)"
      ]
     },
     "execution_count": 132,
     "metadata": {},
     "output_type": "execute_result"
    }
   ],
   "source": [
    "# Optimal model\n",
    "dt = DecisionTreeClassifier(max_depth=8, min_samples_split=2, min_samples_leaf=1, random_state=42)\n",
    "dt.fit(X_train_final, y_train_final)\n",
    "\n",
    "from sklearn.metrics import accuracy_score, roc_curve, auc, precision_score\n",
    "\n",
    "# Predict data\n",
    "y_pred = dt.predict(X_test_pca)\n",
    "\n",
    "# Calculate accuracy \n",
    "acc = accuracy_score(y_test, y_pred)\n",
    "print('Accuracy is :{0}'.format(acc))\n",
    "\n",
    "# Calculate Precision\n",
    "prec = precision_score(y_test, y_pred)\n",
    "print('Precision is :{0}'.format(prec))\n",
    "\n",
    "# Check the AUC for predictions\n",
    "false_positive_rate, true_positive_rate, thresholds = roc_curve(y_test, y_pred)\n",
    "roc_auc = auc(false_positive_rate, true_positive_rate)\n",
    "print('\\nAUC is :{0}'.format(round(roc_auc, 2)))\n",
    "\n",
    "# Create and print a confusion matrix \n",
    "print('\\nConfusion Matrix')\n",
    "from sklearn.metrics import confusion_matrix\n",
    "print('----------------')\n",
    "confusion_matrix(y_test, y_pred)"
   ]
  },
  {
   "cell_type": "markdown",
   "metadata": {},
   "source": [
    "In conclusion, our optimal model is able to predict the correct class for 83% of customers at your company, and will not incorrectly classify someone as a customer that stays when they actually leave 94% of the time. Yes, there were other models that had slightly better metrics than this final one, however, none are as explainable as the decision tree and this model experiences a very small amount of over fitting if at all. Finally, we can confidently say that this model does the task that we set out to complete due to the fact that our final model here greatly outperforms the baseline logistic model that had an accuracy of 63%."
   ]
  },
  {
   "cell_type": "markdown",
   "metadata": {},
   "source": []
  }
 ],
 "metadata": {
  "kernelspec": {
   "display_name": "Python 3",
   "language": "python",
   "name": "python3"
  },
  "language_info": {
   "codemirror_mode": {
    "name": "ipython",
    "version": 3
   },
   "file_extension": ".py",
   "mimetype": "text/x-python",
   "name": "python",
   "nbconvert_exporter": "python",
   "pygments_lexer": "ipython3",
   "version": "3.8.5"
  }
 },
 "nbformat": 4,
 "nbformat_minor": 2
}
